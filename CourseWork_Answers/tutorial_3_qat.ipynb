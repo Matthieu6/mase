{
  "cells": [
    {
      "cell_type": "code",
      "source": [
        "!git clone https://github.com/DeepWok/mase.git\n",
        "%cd mase\n",
        "!python3 -m pip install -e . -vvv\n",
        "\n",
        "from google.colab import drive\n",
        "drive.mount('/content/drive')"
      ],
      "metadata": {
        "colab": {
          "base_uri": "https://localhost:8080/"
        },
        "id": "vSHhJ85o0XfM",
        "outputId": "764af994-af50-4951-df6f-bd1f6b39eb01"
      },
      "execution_count": 0,
      "outputs": [
        {
          "output_type": "stream",
          "name": "stdout",
          "text": [
            
            "Successfully installed mase-tools-1.0.0\n",
            "Removed build tracker: '/tmp/pip-build-tracker-if6a50zx'\n",
            "Drive already mounted at /content/drive; to attempt to forcibly remount, call drive.mount(\"/content/drive\", force_remount=True).\n"
          ]
        }
      ]
    },
    {
      "cell_type": "markdown",
      "metadata": {
        "id": "LRj2X8zM0CbB"
      },
      "source": [
        "# Tutorial 3: Running Quantization-Aware Training (QAT) on Bert"
      ]
    },
    {
      "cell_type": "markdown",
      "metadata": {
        "id": "uN0BoV6D0CbE"
      },
      "source": [
        "In this tutorial, we'll build on top of Tutorial 2 by taking the Bert model fine tuned for sequence classification and running Mase's quantization pass. First, we'll run simple Post-Training Quantization (PTQ) and see how much accuracy drops. Then, we'll run some further training iterations of the quantized model (i.e. QAT) and see whether the accuracy of the trained quantized model approaches the accuracy of the original (full-precision) model."
      ]
    },
    {
      "cell_type": "code",
      "execution_count": 32,
      "metadata": {
        "id": "jPJ7ullK0CbE"
      },
      "outputs": [],
      "source": [
        "checkpoint = \"prajjwal1/bert-tiny\"\n",
        "tokenizer_checkpoint = \"bert-base-uncased\"\n",
        "dataset_name = \"imdb\""
      ]
    },
    {
      "cell_type": "markdown",
      "metadata": {
        "id": "ALGLir7z0CbF"
      },
      "source": [
        "## Importing the model"
      ]
    },
    {
      "cell_type": "markdown",
      "metadata": {
        "id": "i8teZpt80CbF"
      },
      "source": [
        "If you are starting from scratch, you can create a MaseGraph for Bert by running the following cell."
      ]
    },
    {
      "cell_type": "code",
      "execution_count": null,
      "metadata": {
        "id": "knIqL7HS0CbG"
      },
      "outputs": [],
      "source": [
        "from transformers import AutoModelForSequenceClassification\n",
        "\n",
        "from chop import MaseGraph\n",
        "import chop.passes as passes\n",
        "\n",
        "model = AutoModelForSequenceClassification.from_pretrained(checkpoint)\n",
        "model.config.problem_type = \"single_label_classification\"\n",
        "\n",
        "mg = MaseGraph(\n",
        "    model,\n",
        "    hf_input_names=[\n",
        "        \"input_ids\",\n",
        "        \"attention_mask\",\n",
        "        \"labels\",\n",
        "    ],\n",
        ")\n",
        "\n",
        "mg, _ = passes.init_metadata_analysis_pass(mg)\n",
        "mg, _ = passes.add_common_metadata_analysis_pass(mg)"
      ]
    },
    {
      "cell_type": "markdown",
      "metadata": {
        "id": "v39JhYeU0CbG"
      },
      "source": [
        "If you have previously ran the tutorial on LoRA Finetuning, run the following cell to import the fine tuned checkpoint."
      ]
    },
    {
      "cell_type": "code",
      "source": [
        "from google.colab import drive\n",
        "drive.mount('/content/drive')"
      ],
      "metadata": {
        "colab": {
          "base_uri": "https://localhost:8080/"
        },
        "id": "8zOvLYmS2Bld",
        "outputId": "2db67634-c1b9-49cc-8150-f0c8bea5a97b"
      },
      "execution_count": 25,
      "outputs": [
        {
          "output_type": "stream",
          "name": "stdout",
          "text": [
            "Drive already mounted at /content/drive; to attempt to forcibly remount, call drive.mount(\"/content/drive\", force_remount=True).\n"
          ]
        }
      ]
    },
    {
      "cell_type": "code",
      "execution_count": 26,
      "metadata": {
        "colab": {
          "base_uri": "https://localhost:8080/"
        },
        "id": "13RmDl5p0CbG",
        "outputId": "c8af99d1-9e25-4953-8b8b-b24a45c26bc0"
      },
      "outputs": [
        {
          "output_type": "stream",
          "name": "stderr",
          "text": [
            "/content/mase/src/chop/ir/graph/mase_graph.py:380: FutureWarning: You are using `torch.load` with `weights_only=False` (the current default value), which uses the default pickle module implicitly. It is possible to construct malicious pickle data which will execute arbitrary code during unpickling (See https://github.com/pytorch/pytorch/blob/main/SECURITY.md#untrusted-models for more details). In a future release, the default value for `weights_only` will be flipped to `True`. This limits the functions that could be executed during unpickling. Arbitrary objects will no longer be allowed to be loaded via this mode unless they are explicitly allowlisted by the user via `torch.serialization.add_safe_globals`. We recommend you start setting `weights_only=True` for any use case where you don't have full control of the loaded file. Please open an issue on GitHub for any issues related to this experimental feature.\n",
            "  loaded_model = torch.load(f)\n",
            "\u001b[33mWARNING \u001b[0m \u001b[34mNode finfo not found in loaded metadata.\u001b[0m\n",
            "\u001b[33mWARNING \u001b[0m \u001b[34mNode getattr_2 not found in loaded metadata.\u001b[0m\n"
          ]
        }
      ],
      "source": [
        "from pathlib import Path\n",
        "from chop import MaseGraph\n",
        "\n",
        "\n",
        "mg = MaseGraph.from_checkpoint(f\"/content/tutorial_2_lora\")"
      ]
    },
    {
      "cell_type": "markdown",
      "metadata": {
        "id": "W9AVFh0C0CbH"
      },
      "source": [
        "## Post-Training Quantization (PTQ)"
      ]
    },
    {
      "cell_type": "markdown",
      "metadata": {
        "id": "GcVV7vtX0CbH"
      },
      "source": [
        "Here, we simply quantize the model and evaluate the effect in its accuracy. First, let's evaluate the model accuracy before quantization (if you're coming from Tutorial 2, this should be the same as the post-LoRA evaluation accuracy). As seen in Tutorial 2, we can use the `get_tokenized_dataset` and `get_trainer` utilities to generate a HuggingFace `Trainer` instance for training and evaluation."
      ]
    },
    {
      "cell_type": "code",
      "execution_count": 27,
      "metadata": {
        "colab": {
          "base_uri": "https://localhost:8080/",
          "height": 158,
          "referenced_widgets": [
            "f67d985ca9db44feabf4dc41e36905ff",
            "0e7e5707ec0045ddbad3f4c9968d303a",
            "dfe79a3854874172aca6f9c289e32cdb",
            "b5e860eb416c441e86f28e9921a43f9f",
            "e78f44f1593b4c93af0a7d2e00122ebe",
            "cb70d09ce4fe4b7594463d70c5c325a0",
            "3227e26fbb7546468fd81cd2f2635357",
            "b27aaa3af99a4f1384c647a81eac6820",
            "4cefef13899b4aaf8965c5a86a0c90d9",
            "c1c4b269f0264507a91c6883cad3a520",
            "e0a6049758e44936b555743f8e099915"
          ]
        },
        "id": "cjFs73k70CbH",
        "outputId": "cc6a96a4-ea5a-47d9-e546-1041c70b7477"
      },
      "outputs": [
        {
          "output_type": "stream",
          "name": "stderr",
          "text": [
            "\u001b[32mINFO    \u001b[0m \u001b[34mTokenizing dataset imdb with AutoTokenizer for bert-base-uncased.\u001b[0m\n"
          ]
        },
        {
          "output_type": "display_data",
          "data": {
            "text/plain": [
              "Map:   0%|          | 0/25000 [00:00<?, ? examples/s]"
            ],
            "application/vnd.jupyter.widget-view+json": {
              "version_major": 2,
              "version_minor": 0,
              "model_id": "f67d985ca9db44feabf4dc41e36905ff"
            }
          },
          "metadata": {}
        },
        {
          "output_type": "stream",
          "name": "stderr",
          "text": [
            "/content/mase/src/chop/tools/huggingface.py:157: FutureWarning: `tokenizer` is deprecated and will be removed in version 5.0.0 for `Trainer.__init__`. Use `processing_class` instead.\n",
            "  trainer = Trainer(\n"
          ]
        },
        {
          "output_type": "display_data",
          "data": {
            "text/plain": [
              "<IPython.core.display.HTML object>"
            ],
            "text/html": [
              "\n",
              "    <div>\n",
              "      \n",
              "      <progress value='3125' max='3125' style='width:300px; height:20px; vertical-align: middle;'></progress>\n",
              "      [3125/3125 00:23]\n",
              "    </div>\n",
              "    "
            ]
          },
          "metadata": {}
        },
        {
          "output_type": "stream",
          "name": "stdout",
          "text": [
            "Evaluation accuracy: 0.83816\n"
          ]
        }
      ],
      "source": [
        "from chop.tools import get_tokenized_dataset, get_trainer\n",
        "\n",
        "dataset, tokenizer = get_tokenized_dataset(\n",
        "    dataset=dataset_name,\n",
        "    checkpoint=tokenizer_checkpoint,\n",
        "    return_tokenizer=True,\n",
        ")\n",
        "\n",
        "trainer = get_trainer(\n",
        "    model=mg.model,\n",
        "    tokenized_dataset=dataset,\n",
        "    tokenizer=tokenizer,\n",
        "    evaluate_metric=\"accuracy\",\n",
        ")\n",
        "\n",
        "# Evaluate accuracy\n",
        "eval_results = trainer.evaluate()\n",
        "print(f\"Evaluation accuracy: {eval_results['eval_accuracy']}\")"
      ]
    },
    {
      "cell_type": "markdown",
      "metadata": {
        "id": "S0G5O8Pi0CbH"
      },
      "source": [
        "To run the quantization pass, we pass a quantization configuration dictionary as argument. This defines the quantization mode, numerical format and precision for each operator in the graph. We'll run the quantization in \"by type\" mode, meaning nodes are quantized according to their `mase_op`. Other modes include by name and by regex name. We'll quantize all activations, weights and biases in the model to fixed-point with the same precision. This may be sub-optimal, but works as an example. In future tutorials, we'll see how to run the `search` flow in `Mase` to find optimal quantization configurations to minimize accuracy loss."
      ]
    },
    {
      "cell_type": "code",
      "execution_count": null,
      "metadata": {
        "id": "ifXg5qTX0CbH"
      },
      "outputs": [],
      "source": [
        "import chop.passes as passes\n",
        "\n",
        "quantization_config = {\n",
        "    \"by\": \"type\",\n",
        "    \"default\": {\n",
        "        \"config\": {\n",
        "            \"name\": None,\n",
        "        }\n",
        "    },\n",
        "    \"linear\": {\n",
        "        \"config\": {\n",
        "            \"name\": \"integer\",\n",
        "            # data\n",
        "            \"data_in_width\": 8,\n",
        "            \"data_in_frac_width\": 4,\n",
        "            # weight\n",
        "            \"weight_width\": 8,\n",
        "            \"weight_frac_width\": 4,\n",
        "            # bias\n",
        "            \"bias_width\": 8,\n",
        "            \"bias_frac_width\": 4,\n",
        "        }\n",
        "    },\n",
        "}\n",
        "\n",
        "mg, _ = passes.quantize_transform_pass(\n",
        "    mg,\n",
        "    pass_args=quantization_config,\n",
        ")"
      ]
    },
    {
      "cell_type": "markdown",
      "metadata": {
        "id": "bq5l34IX0CbI"
      },
      "source": [
        "Let's evaluate the immediate effect of quantization on the model accuracy."
      ]
    },
    {
      "cell_type": "code",
      "execution_count": null,
      "metadata": {
        "colab": {
          "base_uri": "https://localhost:8080/",
          "height": 109
        },
        "id": "8iApCXnl0CbI",
        "outputId": "ab91e435-e1f0-49cf-b299-a625bf98588d"
      },
      "outputs": [
        {
          "output_type": "stream",
          "name": "stderr",
          "text": [
            "/content/mase/src/chop/tools/huggingface.py:157: FutureWarning: `tokenizer` is deprecated and will be removed in version 5.0.0 for `Trainer.__init__`. Use `processing_class` instead.\n",
            "  trainer = Trainer(\n"
          ]
        },
        {
          "output_type": "display_data",
          "data": {
            "text/plain": [
              "<IPython.core.display.HTML object>"
            ],
            "text/html": [
              "\n",
              "    <div>\n",
              "      \n",
              "      <progress value='3125' max='3125' style='width:300px; height:20px; vertical-align: middle;'></progress>\n",
              "      [3125/3125 00:52]\n",
              "    </div>\n",
              "    "
            ]
          },
          "metadata": {}
        },
        {
          "output_type": "stream",
          "name": "stdout",
          "text": [
            "Evaluation accuracy: 0.82344\n"
          ]
        }
      ],
      "source": [
        "trainer = get_trainer(\n",
        "    model=mg.model,\n",
        "    tokenized_dataset=dataset,\n",
        "    tokenizer=tokenizer,\n",
        "    evaluate_metric=\"accuracy\",\n",
        ")\n",
        "eval_results = trainer.evaluate()\n",
        "print(f\"Evaluation accuracy: {eval_results['eval_accuracy']}\")"
      ]
    },
    {
      "cell_type": "markdown",
      "metadata": {
        "id": "sql97lEH0CbI"
      },
      "source": [
        "We can save the current checkpoint for future reference (optional)."
      ]
    },
    {
      "cell_type": "code",
      "execution_count": null,
      "metadata": {
        "colab": {
          "base_uri": "https://localhost:8080/"
        },
        "id": "_sbNEQBo0CbI",
        "outputId": "9e8e2187-5ae1-49d2-b525-babd3aa0a873"
      },
      "outputs": [
        {
          "output_type": "stream",
          "name": "stderr",
          "text": [
            "\u001b[32mINFO    \u001b[0m \u001b[34mExporting MaseGraph to /content/drive/MyDrive/Colab Notebooks/IC/Advanced Deep Learning/Lab 1/Tutorial 3/tutorial_3_ptq.pt, /content/drive/MyDrive/Colab Notebooks/IC/Advanced Deep Learning/Lab 1/Tutorial 3/tutorial_3_ptq.mz\u001b[0m\n",
            "\u001b[32mINFO    \u001b[0m \u001b[34mExporting GraphModule to /content/drive/MyDrive/Colab Notebooks/IC/Advanced Deep Learning/Lab 1/Tutorial 3/tutorial_3_ptq.pt\u001b[0m\n",
            "\u001b[32mINFO    \u001b[0m \u001b[34mExporting MaseMetadata to /content/drive/MyDrive/Colab Notebooks/IC/Advanced Deep Learning/Lab 1/Tutorial 3/tutorial_3_ptq.mz\u001b[0m\n"
          ]
        }
      ],
      "source": [
        "from pathlib import Path\n",
        "\n",
        "mg.export(f\"/content/drive/MyDrive/Colab Notebooks/IC/Advanced Deep Learning/Lab 1/Tutorial 3/tutorial_3_ptq\")"
      ]
    },
    {
      "cell_type": "markdown",
      "metadata": {
        "id": "6qzSi_6-0CbI"
      },
      "source": [
        "## Quantization-Aware Training (QAT)"
      ]
    },
    {
      "cell_type": "markdown",
      "metadata": {
        "id": "flCe3cY50CbI"
      },
      "source": [
        "You should have seen in the last section that quantization can lead to a significant drop in accuracy. Next, we'll run QAT to evaluate whether this performance gap can be reduced. To run QAT in Mase, all you need to do is include the model back in your training loop after running the quantization pass."
      ]
    },
    {
      "cell_type": "code",
      "execution_count": null,
      "metadata": {
        "colab": {
          "base_uri": "https://localhost:8080/",
          "height": 300
        },
        "id": "dTtqn5ef0CbI",
        "outputId": "f7da324f-f81b-4ce2-821d-d5cb8d0693f2"
      },
      "outputs": [
        {
          "output_type": "display_data",
          "data": {
            "text/plain": [
              "<IPython.core.display.HTML object>"
            ],
            "text/html": [
              "\n",
              "    <div>\n",
              "      \n",
              "      <progress value='3125' max='3125' style='width:300px; height:20px; vertical-align: middle;'></progress>\n",
              "      [3125/3125 01:03, Epoch 1/1]\n",
              "    </div>\n",
              "    <table border=\"1\" class=\"dataframe\">\n",
              "  <thead>\n",
              " <tr style=\"text-align: left;\">\n",
              "      <th>Step</th>\n",
              "      <th>Training Loss</th>\n",
              "    </tr>\n",
              "  </thead>\n",
              "  <tbody>\n",
              "    <tr>\n",
              "      <td>500</td>\n",
              "      <td>0.394000</td>\n",
              "    </tr>\n",
              "    <tr>\n",
              "      <td>1000</td>\n",
              "      <td>0.395400</td>\n",
              "    </tr>\n",
              "    <tr>\n",
              "      <td>1500</td>\n",
              "      <td>0.405100</td>\n",
              "    </tr>\n",
              "    <tr>\n",
              "      <td>2000</td>\n",
              "      <td>0.384100</td>\n",
              "    </tr>\n",
              "    <tr>\n",
              "      <td>2500</td>\n",
              "      <td>0.393800</td>\n",
              "    </tr>\n",
              "    <tr>\n",
              "      <td>3000</td>\n",
              "      <td>0.382800</td>\n",
              "    </tr>\n",
              "  </tbody>\n",
              "</table><p>"
            ]
          },
          "metadata": {}
        },
        {
          "output_type": "display_data",
          "data": {
            "text/plain": [
              "<IPython.core.display.HTML object>"
            ],
            "text/html": [
              "\n",
              "    <div>\n",
              "      \n",
              "      <progress value='6250' max='3125' style='width:300px; height:20px; vertical-align: middle;'></progress>\n",
              "      [3125/3125 03:57]\n",
              "    </div>\n",
              "    "
            ]
          },
          "metadata": {}
        },
        {
          "output_type": "stream",
          "name": "stdout",
          "text": [
            "Evaluation accuracy: 0.84268\n"
          ]
        }
      ],
      "source": [
        "# Evaluate accuracy\n",
        "trainer.train()\n",
        "eval_results = trainer.evaluate()\n",
        "print(f\"Evaluation accuracy: {eval_results['eval_accuracy']}\")"
      ]
    },
    {
      "cell_type": "markdown",
      "metadata": {
        "id": "ZwSO5oPC0CbI"
      },
      "source": [
        "We can see the accuracy of the quantized model can match (or sometimes exceed) the full precision model, with a much lower memory requirement to store the weights. Finally, save the final checkpoint for future tutorials."
      ]
    },
    {
      "cell_type": "code",
      "execution_count": null,
      "metadata": {
        "colab": {
          "base_uri": "https://localhost:8080/"
        },
        "id": "kyxYqndG0CbI",
        "outputId": "f7680c0c-ca27-4417-cef7-8102afed34d6"
      },
      "outputs": [
        {
          "output_type": "stream",
          "name": "stderr",
          "text": [
            "\u001b[32mINFO    \u001b[0m \u001b[34mExporting MaseGraph to /content/drive/MyDrive/Colab Notebooks/IC/Advanced Deep Learning/Lab 1/Tutorial 3/tutorial_3_qat.pt, /content/drive/MyDrive/Colab Notebooks/IC/Advanced Deep Learning/Lab 1/Tutorial 3/tutorial_3_qat.mz\u001b[0m\n",
            "\u001b[32mINFO    \u001b[0m \u001b[34mExporting GraphModule to /content/drive/MyDrive/Colab Notebooks/IC/Advanced Deep Learning/Lab 1/Tutorial 3/tutorial_3_qat.pt\u001b[0m\n",
            "\u001b[32mINFO    \u001b[0m \u001b[34mExporting MaseMetadata to /content/drive/MyDrive/Colab Notebooks/IC/Advanced Deep Learning/Lab 1/Tutorial 3/tutorial_3_qat.mz\u001b[0m\n"
          ]
        }
      ],
      "source": [
        "from pathlib import Path\n",
        "\n",
        "mg.export(f\"/content/drive/MyDrive/Colab Notebooks/IC/Advanced Deep Learning/Lab 1/Tutorial 3/tutorial_3_qat\")"
      ]
    },
    {
      "cell_type": "markdown",
      "source": [
        "# Task 1"
      ],
      "metadata": {
        "id": "qY8Z29tD53a2"
      }
    },
    {
      "cell_type": "code",
      "source": [
        "import matplotlib.pyplot as plt\n",
        "from pathlib import Path\n",
        "from chop import MaseGraph\n",
        "import chop.passes as passes\n",
        "from transformers import AutoModelForSequenceClassification\n",
        "from chop.tools import get_tokenized_dataset, get_trainer\n",
        "\n",
        "\n",
        "\n",
        "# Define fixed-point widths to test\n",
        "fixed_point_widths = list(range(4, 33, 4))  # [4, 8, 12, 16, 20, 24, 28, 32]\n",
        "ptq_accuracies = []\n",
        "qat_accuracies = []\n",
        "\n",
        "for width in fixed_point_widths:\n",
        "    print(f\"\\n=== Testing Fixed-Point Width: {width} ===\")\n",
        "\n",
        "    # 1. Reload original model from checkpoint\n",
        "    mg = MaseGraph.from_checkpoint(f\"/content/drive/MyDrive/Colab Notebooks/IC/Advanced Deep Learning/tutorial_2_lora\")\n",
        "    # 2. Configure quantization for current width\n",
        "    quantization_config = {\n",
        "        \"by\": \"type\",\n",
        "        \"default\": {\"config\": {\"name\": None}},\n",
        "        \"linear\": {\n",
        "            \"config\": {\n",
        "                \"name\": \"integer\",\n",
        "                \"data_in_width\": width,\n",
        "                \"data_in_frac_width\": width - 2,\n",
        "                \"weight_width\": width,\n",
        "                \"weight_frac_width\": width - 2,\n",
        "                \"bias_width\": width,\n",
        "                \"bias_frac_width\": width - 2,\n",
        "            }\n",
        "        },\n",
        "    }\n",
        "\n",
        "    # 3. Apply PTQ\n",
        "    mg, _ = passes.quantize_transform_pass(mg, pass_args=quantization_config)\n",
        "\n",
        "    # 4. Evaluate PTQ accuracy\n",
        "    ptq_trainer = get_trainer(\n",
        "        model=mg.model,\n",
        "        tokenized_dataset=dataset,\n",
        "        tokenizer=tokenizer,\n",
        "        evaluate_metric=\"accuracy\",\n",
        "    )\n",
        "    ptq_results = ptq_trainer.evaluate()\n",
        "    ptq_acc = ptq_results[\"eval_accuracy\"]\n",
        "    ptq_accuracies.append(ptq_acc)\n",
        "    print(f\"PTQ Accuracy: {ptq_acc:.4f}\")\n",
        "\n",
        "    # 5. Configure QAT training\n",
        "    qat_trainer = trainer = get_trainer(\n",
        "        model=mg.model,\n",
        "        tokenized_dataset=dataset,\n",
        "        tokenizer=tokenizer,\n",
        "        evaluate_metric=\"accuracy\",\n",
        "    )\n",
        "\n",
        "    # 6. Perform QAT\n",
        "    qat_trainer.train()\n",
        "\n",
        "    # 7. Evaluate QAT accuracy\n",
        "    qat_results = qat_trainer.evaluate()\n",
        "    qat_acc = qat_results[\"eval_accuracy\"]\n",
        "    qat_accuracies.append(qat_acc)\n",
        "    print(f\"QAT Accuracy: {qat_acc:.4f}\")\n",
        "\n",
        "# Plot results\n",
        "plt.figure(figsize=(10, 6))\n",
        "plt.plot(fixed_point_widths, ptq_accuracies, \"b-o\", label=\"PTQ\")\n",
        "plt.plot(fixed_point_widths, qat_accuracies, \"r-o\", label=\"QAT\")\n",
        "plt.xlabel(\"Fixed-Point Width (bits)\")\n",
        "plt.ylabel(\"Accuracy\")\n",
        "plt.title(\"IMDb Classification Accuracy vs. Quantization Precision\")\n",
        "plt.legend()\n",
        "plt.grid(True)\n",
        "plt.xticks(fixed_point_widths)\n",
        "plt.show()"
      ],
      "metadata": {
        "colab": {
          "base_uri": "https://localhost:8080/",
          "height": 1000
        },
        "id": "_H6J7B2i55xQ",
        "outputId": "b8df1f19-6860-4f94-b3c3-3e7471848712"
      },
      "execution_count": null,
      "outputs": [
        {
          "output_type": "stream",
          "name": "stderr",
          "text": [
            "\u001b[32mINFO    \u001b[0m \u001b[34mTokenizing dataset imdb with AutoTokenizer for bert-base-uncased.\u001b[0m\n"
          ]
        },
        {
          "output_type": "stream",
          "name": "stdout",
          "text": [
            "\n",
            "=== Testing Fixed-Point Width: 4 ===\n"
          ]
        },
        {
          "output_type": "stream",
          "name": "stderr",
          "text": [
            "/content/mase/src/chop/ir/graph/mase_graph.py:380: FutureWarning: You are using `torch.load` with `weights_only=False` (the current default value), which uses the default pickle module implicitly. It is possible to construct malicious pickle data which will execute arbitrary code during unpickling (See https://github.com/pytorch/pytorch/blob/main/SECURITY.md#untrusted-models for more details). In a future release, the default value for `weights_only` will be flipped to `True`. This limits the functions that could be executed during unpickling. Arbitrary objects will no longer be allowed to be loaded via this mode unless they are explicitly allowlisted by the user via `torch.serialization.add_safe_globals`. We recommend you start setting `weights_only=True` for any use case where you don't have full control of the loaded file. Please open an issue on GitHub for any issues related to this experimental feature.\n",
            "  loaded_model = torch.load(f)\n",
            "\u001b[33mWARNING \u001b[0m \u001b[34mNode finfo not found in loaded metadata.\u001b[0m\n",
            "\u001b[33mWARNING \u001b[0m \u001b[34mNode getattr_2 not found in loaded metadata.\u001b[0m\n",
            "/content/mase/src/chop/tools/huggingface.py:157: FutureWarning: `tokenizer` is deprecated and will be removed in version 5.0.0 for `Trainer.__init__`. Use `processing_class` instead.\n",
            "  trainer = Trainer(\n"
          ]
        },
        {
          "output_type": "display_data",
          "data": {
            "text/plain": [
              "<IPython.core.display.HTML object>"
            ],
            "text/html": [
              "\n",
              "    <div>\n",
              "      \n",
              "      <progress value='3125' max='3125' style='width:300px; height:20px; vertical-align: middle;'></progress>\n",
              "      [3125/3125 00:38]\n",
              "    </div>\n",
              "    "
            ]
          },
          "metadata": {}
        },
        {
          "output_type": "stream",
          "name": "stdout",
          "text": [
            "PTQ Accuracy: 0.5000\n"
          ]
        },
        {
          "output_type": "stream",
          "name": "stderr",
          "text": [
            "/content/mase/src/chop/tools/huggingface.py:157: FutureWarning: `tokenizer` is deprecated and will be removed in version 5.0.0 for `Trainer.__init__`. Use `processing_class` instead.\n",
            "  trainer = Trainer(\n"
          ]
        },
        {
          "output_type": "display_data",
          "data": {
            "text/plain": [
              "<IPython.core.display.HTML object>"
            ],
            "text/html": [
              "\n",
              "    <div>\n",
              "      \n",
              "      <progress value='3125' max='3125' style='width:300px; height:20px; vertical-align: middle;'></progress>\n",
              "      [3125/3125 01:03, Epoch 1/1]\n",
              "    </div>\n",
              "    <table border=\"1\" class=\"dataframe\">\n",
              "  <thead>\n",
              " <tr style=\"text-align: left;\">\n",
              "      <th>Step</th>\n",
              "      <th>Training Loss</th>\n",
              "    </tr>\n",
              "  </thead>\n",
              "  <tbody>\n",
              "    <tr>\n",
              "      <td>500</td>\n",
              "      <td>0.693100</td>\n",
              "    </tr>\n",
              "    <tr>\n",
              "      <td>1000</td>\n",
              "      <td>0.693100</td>\n",
              "    </tr>\n",
              "    <tr>\n",
              "      <td>1500</td>\n",
              "      <td>0.693100</td>\n",
              "    </tr>\n",
              "    <tr>\n",
              "      <td>2000</td>\n",
              "      <td>0.693100</td>\n",
              "    </tr>\n",
              "    <tr>\n",
              "      <td>2500</td>\n",
              "      <td>0.693100</td>\n",
              "    </tr>\n",
              "    <tr>\n",
              "      <td>3000</td>\n",
              "      <td>0.693100</td>\n",
              "    </tr>\n",
              "  </tbody>\n",
              "</table><p>"
            ]
          },
          "metadata": {}
        },
        {
          "output_type": "display_data",
          "data": {
            "text/plain": [
              "<IPython.core.display.HTML object>"
            ],
            "text/html": [
              "\n",
              "    <div>\n",
              "      \n",
              "      <progress value='3125' max='3125' style='width:300px; height:20px; vertical-align: middle;'></progress>\n",
              "      [3125/3125 00:32]\n",
              "    </div>\n",
              "    "
            ]
          },
          "metadata": {}
        },
        {
          "output_type": "stream",
          "name": "stderr",
          "text": [
            "/content/mase/src/chop/ir/graph/mase_graph.py:380: FutureWarning: You are using `torch.load` with `weights_only=False` (the current default value), which uses the default pickle module implicitly. It is possible to construct malicious pickle data which will execute arbitrary code during unpickling (See https://github.com/pytorch/pytorch/blob/main/SECURITY.md#untrusted-models for more details). In a future release, the default value for `weights_only` will be flipped to `True`. This limits the functions that could be executed during unpickling. Arbitrary objects will no longer be allowed to be loaded via this mode unless they are explicitly allowlisted by the user via `torch.serialization.add_safe_globals`. We recommend you start setting `weights_only=True` for any use case where you don't have full control of the loaded file. Please open an issue on GitHub for any issues related to this experimental feature.\n",
            "  loaded_model = torch.load(f)\n",
            "\u001b[33mWARNING \u001b[0m \u001b[34mNode finfo not found in loaded metadata.\u001b[0m\n",
            "\u001b[33mWARNING \u001b[0m \u001b[34mNode getattr_2 not found in loaded metadata.\u001b[0m\n"
          ]
        },
        {
          "output_type": "stream",
          "name": "stdout",
          "text": [
            "QAT Accuracy: 0.5000\n",
            "\n",
            "=== Testing Fixed-Point Width: 8 ===\n"
          ]
        },
        {
          "output_type": "stream",
          "name": "stderr",
          "text": [
            "/content/mase/src/chop/tools/huggingface.py:157: FutureWarning: `tokenizer` is deprecated and will be removed in version 5.0.0 for `Trainer.__init__`. Use `processing_class` instead.\n",
            "  trainer = Trainer(\n"
          ]
        },
        {
          "output_type": "display_data",
          "data": {
            "text/plain": [
              "<IPython.core.display.HTML object>"
            ],
            "text/html": [
              "\n",
              "    <div>\n",
              "      \n",
              "      <progress value='3125' max='3125' style='width:300px; height:20px; vertical-align: middle;'></progress>\n",
              "      [3125/3125 00:32]\n",
              "    </div>\n",
              "    "
            ]
          },
          "metadata": {}
        },
        {
          "output_type": "stream",
          "name": "stdout",
          "text": [
            "PTQ Accuracy: 0.8091\n"
          ]
        },
        {
          "output_type": "stream",
          "name": "stderr",
          "text": [
            "/content/mase/src/chop/tools/huggingface.py:157: FutureWarning: `tokenizer` is deprecated and will be removed in version 5.0.0 for `Trainer.__init__`. Use `processing_class` instead.\n",
            "  trainer = Trainer(\n"
          ]
        },
        {
          "output_type": "display_data",
          "data": {
            "text/plain": [
              "<IPython.core.display.HTML object>"
            ],
            "text/html": [
              "\n",
              "    <div>\n",
              "      \n",
              "      <progress value='3125' max='3125' style='width:300px; height:20px; vertical-align: middle;'></progress>\n",
              "      [3125/3125 01:02, Epoch 1/1]\n",
              "    </div>\n",
              "    <table border=\"1\" class=\"dataframe\">\n",
              "  <thead>\n",
              " <tr style=\"text-align: left;\">\n",
              "      <th>Step</th>\n",
              "      <th>Training Loss</th>\n",
              "    </tr>\n",
              "  </thead>\n",
              "  <tbody>\n",
              "    <tr>\n",
              "      <td>500</td>\n",
              "      <td>0.410700</td>\n",
              "    </tr>\n",
              "    <tr>\n",
              "      <td>1000</td>\n",
              "      <td>0.404800</td>\n",
              "    </tr>\n",
              "    <tr>\n",
              "      <td>1500</td>\n",
              "      <td>0.403500</td>\n",
              "    </tr>\n",
              "    <tr>\n",
              "      <td>2000</td>\n",
              "      <td>0.379700</td>\n",
              "    </tr>\n",
              "    <tr>\n",
              "      <td>2500</td>\n",
              "      <td>0.394300</td>\n",
              "    </tr>\n",
              "    <tr>\n",
              "      <td>3000</td>\n",
              "      <td>0.384000</td>\n",
              "    </tr>\n",
              "  </tbody>\n",
              "</table><p>"
            ]
          },
          "metadata": {}
        },
        {
          "output_type": "display_data",
          "data": {
            "text/plain": [
              "<IPython.core.display.HTML object>"
            ],
            "text/html": [
              "\n",
              "    <div>\n",
              "      \n",
              "      <progress value='3125' max='3125' style='width:300px; height:20px; vertical-align: middle;'></progress>\n",
              "      [3125/3125 00:31]\n",
              "    </div>\n",
              "    "
            ]
          },
          "metadata": {}
        },
        {
          "output_type": "stream",
          "name": "stderr",
          "text": [
            "/content/mase/src/chop/ir/graph/mase_graph.py:380: FutureWarning: You are using `torch.load` with `weights_only=False` (the current default value), which uses the default pickle module implicitly. It is possible to construct malicious pickle data which will execute arbitrary code during unpickling (See https://github.com/pytorch/pytorch/blob/main/SECURITY.md#untrusted-models for more details). In a future release, the default value for `weights_only` will be flipped to `True`. This limits the functions that could be executed during unpickling. Arbitrary objects will no longer be allowed to be loaded via this mode unless they are explicitly allowlisted by the user via `torch.serialization.add_safe_globals`. We recommend you start setting `weights_only=True` for any use case where you don't have full control of the loaded file. Please open an issue on GitHub for any issues related to this experimental feature.\n",
            "  loaded_model = torch.load(f)\n",
            "\u001b[33mWARNING \u001b[0m \u001b[34mNode finfo not found in loaded metadata.\u001b[0m\n",
            "\u001b[33mWARNING \u001b[0m \u001b[34mNode getattr_2 not found in loaded metadata.\u001b[0m\n"
          ]
        },
        {
          "output_type": "stream",
          "name": "stdout",
          "text": [
            "QAT Accuracy: 0.8388\n",
            "\n",
            "=== Testing Fixed-Point Width: 12 ===\n"
          ]
        },
        {
          "output_type": "stream",
          "name": "stderr",
          "text": [
            "/content/mase/src/chop/tools/huggingface.py:157: FutureWarning: `tokenizer` is deprecated and will be removed in version 5.0.0 for `Trainer.__init__`. Use `processing_class` instead.\n",
            "  trainer = Trainer(\n"
          ]
        },
        {
          "output_type": "display_data",
          "data": {
            "text/plain": [
              "<IPython.core.display.HTML object>"
            ],
            "text/html": [
              "\n",
              "    <div>\n",
              "      \n",
              "      <progress value='3125' max='3125' style='width:300px; height:20px; vertical-align: middle;'></progress>\n",
              "      [3125/3125 00:31]\n",
              "    </div>\n",
              "    "
            ]
          },
          "metadata": {}
        },
        {
          "output_type": "stream",
          "name": "stdout",
          "text": [
            "PTQ Accuracy: 0.8088\n"
          ]
        },
        {
          "output_type": "stream",
          "name": "stderr",
          "text": [
            "/content/mase/src/chop/tools/huggingface.py:157: FutureWarning: `tokenizer` is deprecated and will be removed in version 5.0.0 for `Trainer.__init__`. Use `processing_class` instead.\n",
            "  trainer = Trainer(\n"
          ]
        },
        {
          "output_type": "display_data",
          "data": {
            "text/plain": [
              "<IPython.core.display.HTML object>"
            ],
            "text/html": [
              "\n",
              "    <div>\n",
              "      \n",
              "      <progress value='3125' max='3125' style='width:300px; height:20px; vertical-align: middle;'></progress>\n",
              "      [3125/3125 01:03, Epoch 1/1]\n",
              "    </div>\n",
              "    <table border=\"1\" class=\"dataframe\">\n",
              "  <thead>\n",
              " <tr style=\"text-align: left;\">\n",
              "      <th>Step</th>\n",
              "      <th>Training Loss</th>\n",
              "    </tr>\n",
              "  </thead>\n",
              "  <tbody>\n",
              "    <tr>\n",
              "      <td>500</td>\n",
              "      <td>0.407800</td>\n",
              "    </tr>\n",
              "    <tr>\n",
              "      <td>1000</td>\n",
              "      <td>0.403300</td>\n",
              "    </tr>\n",
              "    <tr>\n",
              "      <td>1500</td>\n",
              "      <td>0.403200</td>\n",
              "    </tr>\n",
              "    <tr>\n",
              "      <td>2000</td>\n",
              "      <td>0.378300</td>\n",
              "    </tr>\n",
              "    <tr>\n",
              "      <td>2500</td>\n",
              "      <td>0.395000</td>\n",
              "    </tr>\n",
              "    <tr>\n",
              "      <td>3000</td>\n",
              "      <td>0.383900</td>\n",
              "    </tr>\n",
              "  </tbody>\n",
              "</table><p>"
            ]
          },
          "metadata": {}
        },
        {
          "output_type": "display_data",
          "data": {
            "text/plain": [
              "<IPython.core.display.HTML object>"
            ],
            "text/html": [
              "\n",
              "    <div>\n",
              "      \n",
              "      <progress value='3125' max='3125' style='width:300px; height:20px; vertical-align: middle;'></progress>\n",
              "      [3125/3125 00:31]\n",
              "    </div>\n",
              "    "
            ]
          },
          "metadata": {}
        },
        {
          "output_type": "stream",
          "name": "stderr",
          "text": [
            "/content/mase/src/chop/ir/graph/mase_graph.py:380: FutureWarning: You are using `torch.load` with `weights_only=False` (the current default value), which uses the default pickle module implicitly. It is possible to construct malicious pickle data which will execute arbitrary code during unpickling (See https://github.com/pytorch/pytorch/blob/main/SECURITY.md#untrusted-models for more details). In a future release, the default value for `weights_only` will be flipped to `True`. This limits the functions that could be executed during unpickling. Arbitrary objects will no longer be allowed to be loaded via this mode unless they are explicitly allowlisted by the user via `torch.serialization.add_safe_globals`. We recommend you start setting `weights_only=True` for any use case where you don't have full control of the loaded file. Please open an issue on GitHub for any issues related to this experimental feature.\n",
            "  loaded_model = torch.load(f)\n",
            "\u001b[33mWARNING \u001b[0m \u001b[34mNode finfo not found in loaded metadata.\u001b[0m\n",
            "\u001b[33mWARNING \u001b[0m \u001b[34mNode getattr_2 not found in loaded metadata.\u001b[0m\n"
          ]
        },
        {
          "output_type": "stream",
          "name": "stdout",
          "text": [
            "QAT Accuracy: 0.8402\n",
            "\n",
            "=== Testing Fixed-Point Width: 16 ===\n"
          ]
        },
        {
          "output_type": "stream",
          "name": "stderr",
          "text": [
            "/content/mase/src/chop/tools/huggingface.py:157: FutureWarning: `tokenizer` is deprecated and will be removed in version 5.0.0 for `Trainer.__init__`. Use `processing_class` instead.\n",
            "  trainer = Trainer(\n"
          ]
        },
        {
          "output_type": "display_data",
          "data": {
            "text/plain": [
              "<IPython.core.display.HTML object>"
            ],
            "text/html": [
              "\n",
              "    <div>\n",
              "      \n",
              "      <progress value='3125' max='3125' style='width:300px; height:20px; vertical-align: middle;'></progress>\n",
              "      [3125/3125 00:31]\n",
              "    </div>\n",
              "    "
            ]
          },
          "metadata": {}
        },
        {
          "output_type": "stream",
          "name": "stdout",
          "text": [
            "PTQ Accuracy: 0.8093\n"
          ]
        },
        {
          "output_type": "stream",
          "name": "stderr",
          "text": [
            "/content/mase/src/chop/tools/huggingface.py:157: FutureWarning: `tokenizer` is deprecated and will be removed in version 5.0.0 for `Trainer.__init__`. Use `processing_class` instead.\n",
            "  trainer = Trainer(\n"
          ]
        },
        {
          "output_type": "display_data",
          "data": {
            "text/plain": [
              "<IPython.core.display.HTML object>"
            ],
            "text/html": [
              "\n",
              "    <div>\n",
              "      \n",
              "      <progress value='3125' max='3125' style='width:300px; height:20px; vertical-align: middle;'></progress>\n",
              "      [3125/3125 01:02, Epoch 1/1]\n",
              "    </div>\n",
              "    <table border=\"1\" class=\"dataframe\">\n",
              "  <thead>\n",
              " <tr style=\"text-align: left;\">\n",
              "      <th>Step</th>\n",
              "      <th>Training Loss</th>\n",
              "    </tr>\n",
              "  </thead>\n",
              "  <tbody>\n",
              "    <tr>\n",
              "      <td>500</td>\n",
              "      <td>0.407800</td>\n",
              "    </tr>\n",
              "    <tr>\n",
              "      <td>1000</td>\n",
              "      <td>0.403300</td>\n",
              "    </tr>\n",
              "    <tr>\n",
              "      <td>1500</td>\n",
              "      <td>0.403400</td>\n",
              "    </tr>\n",
              "    <tr>\n",
              "      <td>2000</td>\n",
              "      <td>0.378400</td>\n",
              "    </tr>\n",
              "    <tr>\n",
              "      <td>2500</td>\n",
              "      <td>0.395000</td>\n",
              "    </tr>\n",
              "    <tr>\n",
              "      <td>3000</td>\n",
              "      <td>0.383800</td>\n",
              "    </tr>\n",
              "  </tbody>\n",
              "</table><p>"
            ]
          },
          "metadata": {}
        },
        {
          "output_type": "display_data",
          "data": {
            "text/plain": [
              "<IPython.core.display.HTML object>"
            ],
            "text/html": [
              "\n",
              "    <div>\n",
              "      \n",
              "      <progress value='3125' max='3125' style='width:300px; height:20px; vertical-align: middle;'></progress>\n",
              "      [3125/3125 00:30]\n",
              "    </div>\n",
              "    "
            ]
          },
          "metadata": {}
        },
        {
          "output_type": "stream",
          "name": "stderr",
          "text": [
            "/content/mase/src/chop/ir/graph/mase_graph.py:380: FutureWarning: You are using `torch.load` with `weights_only=False` (the current default value), which uses the default pickle module implicitly. It is possible to construct malicious pickle data which will execute arbitrary code during unpickling (See https://github.com/pytorch/pytorch/blob/main/SECURITY.md#untrusted-models for more details). In a future release, the default value for `weights_only` will be flipped to `True`. This limits the functions that could be executed during unpickling. Arbitrary objects will no longer be allowed to be loaded via this mode unless they are explicitly allowlisted by the user via `torch.serialization.add_safe_globals`. We recommend you start setting `weights_only=True` for any use case where you don't have full control of the loaded file. Please open an issue on GitHub for any issues related to this experimental feature.\n",
            "  loaded_model = torch.load(f)\n",
            "\u001b[33mWARNING \u001b[0m \u001b[34mNode finfo not found in loaded metadata.\u001b[0m\n",
            "\u001b[33mWARNING \u001b[0m \u001b[34mNode getattr_2 not found in loaded metadata.\u001b[0m\n"
          ]
        },
        {
          "output_type": "stream",
          "name": "stdout",
          "text": [
            "QAT Accuracy: 0.8402\n",
            "\n",
            "=== Testing Fixed-Point Width: 20 ===\n"
          ]
        },
        {
          "output_type": "stream",
          "name": "stderr",
          "text": [
            "/content/mase/src/chop/tools/huggingface.py:157: FutureWarning: `tokenizer` is deprecated and will be removed in version 5.0.0 for `Trainer.__init__`. Use `processing_class` instead.\n",
            "  trainer = Trainer(\n"
          ]
        },
        {
          "output_type": "display_data",
          "data": {
            "text/plain": [
              "<IPython.core.display.HTML object>"
            ],
            "text/html": [
              "\n",
              "    <div>\n",
              "      \n",
              "      <progress value='3125' max='3125' style='width:300px; height:20px; vertical-align: middle;'></progress>\n",
              "      [3125/3125 00:30]\n",
              "    </div>\n",
              "    "
            ]
          },
          "metadata": {}
        },
        {
          "output_type": "stream",
          "name": "stdout",
          "text": [
            "PTQ Accuracy: 0.8093\n"
          ]
        },
        {
          "output_type": "stream",
          "name": "stderr",
          "text": [
            "/content/mase/src/chop/tools/huggingface.py:157: FutureWarning: `tokenizer` is deprecated and will be removed in version 5.0.0 for `Trainer.__init__`. Use `processing_class` instead.\n",
            "  trainer = Trainer(\n"
          ]
        },
        {
          "output_type": "display_data",
          "data": {
            "text/plain": [
              "<IPython.core.display.HTML object>"
            ],
            "text/html": [
              "\n",
              "    <div>\n",
              "      \n",
              "      <progress value='3125' max='3125' style='width:300px; height:20px; vertical-align: middle;'></progress>\n",
              "      [3125/3125 01:02, Epoch 1/1]\n",
              "    </div>\n",
              "    <table border=\"1\" class=\"dataframe\">\n",
              "  <thead>\n",
              " <tr style=\"text-align: left;\">\n",
              "      <th>Step</th>\n",
              "      <th>Training Loss</th>\n",
              "    </tr>\n",
              "  </thead>\n",
              "  <tbody>\n",
              "    <tr>\n",
              "      <td>500</td>\n",
              "      <td>0.407800</td>\n",
              "    </tr>\n",
              "    <tr>\n",
              "      <td>1000</td>\n",
              "      <td>0.403300</td>\n",
              "    </tr>\n",
              "    <tr>\n",
              "      <td>1500</td>\n",
              "      <td>0.403400</td>\n",
              "    </tr>\n",
              "    <tr>\n",
              "      <td>2000</td>\n",
              "      <td>0.378400</td>\n",
              "    </tr>\n",
              "    <tr>\n",
              "      <td>2500</td>\n",
              "      <td>0.395000</td>\n",
              "    </tr>\n",
              "    <tr>\n",
              "      <td>3000</td>\n",
              "      <td>0.383800</td>\n",
              "    </tr>\n",
              "  </tbody>\n",
              "</table><p>"
            ]
          },
          "metadata": {}
        },
        {
          "output_type": "display_data",
          "data": {
            "text/plain": [
              "<IPython.core.display.HTML object>"
            ],
            "text/html": [
              "\n",
              "    <div>\n",
              "      \n",
              "      <progress value='3125' max='3125' style='width:300px; height:20px; vertical-align: middle;'></progress>\n",
              "      [3125/3125 00:31]\n",
              "    </div>\n",
              "    "
            ]
          },
          "metadata": {}
        },
        {
          "output_type": "stream",
          "name": "stderr",
          "text": [
            "/content/mase/src/chop/ir/graph/mase_graph.py:380: FutureWarning: You are using `torch.load` with `weights_only=False` (the current default value), which uses the default pickle module implicitly. It is possible to construct malicious pickle data which will execute arbitrary code during unpickling (See https://github.com/pytorch/pytorch/blob/main/SECURITY.md#untrusted-models for more details). In a future release, the default value for `weights_only` will be flipped to `True`. This limits the functions that could be executed during unpickling. Arbitrary objects will no longer be allowed to be loaded via this mode unless they are explicitly allowlisted by the user via `torch.serialization.add_safe_globals`. We recommend you start setting `weights_only=True` for any use case where you don't have full control of the loaded file. Please open an issue on GitHub for any issues related to this experimental feature.\n",
            "  loaded_model = torch.load(f)\n",
            "\u001b[33mWARNING \u001b[0m \u001b[34mNode finfo not found in loaded metadata.\u001b[0m\n",
            "\u001b[33mWARNING \u001b[0m \u001b[34mNode getattr_2 not found in loaded metadata.\u001b[0m\n"
          ]
        },
        {
          "output_type": "stream",
          "name": "stdout",
          "text": [
            "QAT Accuracy: 0.8402\n",
            "\n",
            "=== Testing Fixed-Point Width: 24 ===\n"
          ]
        },
        {
          "output_type": "stream",
          "name": "stderr",
          "text": [
            "/content/mase/src/chop/tools/huggingface.py:157: FutureWarning: `tokenizer` is deprecated and will be removed in version 5.0.0 for `Trainer.__init__`. Use `processing_class` instead.\n",
            "  trainer = Trainer(\n"
          ]
        },
        {
          "output_type": "display_data",
          "data": {
            "text/plain": [
              "<IPython.core.display.HTML object>"
            ],
            "text/html": [
              "\n",
              "    <div>\n",
              "      \n",
              "      <progress value='3125' max='3125' style='width:300px; height:20px; vertical-align: middle;'></progress>\n",
              "      [3125/3125 00:31]\n",
              "    </div>\n",
              "    "
            ]
          },
          "metadata": {}
        },
        {
          "output_type": "stream",
          "name": "stdout",
          "text": [
            "PTQ Accuracy: 0.8093\n"
          ]
        },
        {
          "output_type": "stream",
          "name": "stderr",
          "text": [
            "/content/mase/src/chop/tools/huggingface.py:157: FutureWarning: `tokenizer` is deprecated and will be removed in version 5.0.0 for `Trainer.__init__`. Use `processing_class` instead.\n",
            "  trainer = Trainer(\n"
          ]
        },
        {
          "output_type": "display_data",
          "data": {
            "text/plain": [
              "<IPython.core.display.HTML object>"
            ],
            "text/html": [
              "\n",
              "    <div>\n",
              "      \n",
              "      <progress value='3125' max='3125' style='width:300px; height:20px; vertical-align: middle;'></progress>\n",
              "      [3125/3125 01:02, Epoch 1/1]\n",
              "    </div>\n",
              "    <table border=\"1\" class=\"dataframe\">\n",
              "  <thead>\n",
              " <tr style=\"text-align: left;\">\n",
              "      <th>Step</th>\n",
              "      <th>Training Loss</th>\n",
              "    </tr>\n",
              "  </thead>\n",
              "  <tbody>\n",
              "    <tr>\n",
              "      <td>500</td>\n",
              "      <td>0.407800</td>\n",
              "    </tr>\n",
              "    <tr>\n",
              "      <td>1000</td>\n",
              "      <td>0.403300</td>\n",
              "    </tr>\n",
              "    <tr>\n",
              "      <td>1500</td>\n",
              "      <td>0.403400</td>\n",
              "    </tr>\n",
              "    <tr>\n",
              "      <td>2000</td>\n",
              "      <td>0.378400</td>\n",
              "    </tr>\n",
              "    <tr>\n",
              "      <td>2500</td>\n",
              "      <td>0.395000</td>\n",
              "    </tr>\n",
              "    <tr>\n",
              "      <td>3000</td>\n",
              "      <td>0.383800</td>\n",
              "    </tr>\n",
              "  </tbody>\n",
              "</table><p>"
            ]
          },
          "metadata": {}
        },
        {
          "output_type": "display_data",
          "data": {
            "text/plain": [
              "<IPython.core.display.HTML object>"
            ],
            "text/html": [
              "\n",
              "    <div>\n",
              "      \n",
              "      <progress value='3125' max='3125' style='width:300px; height:20px; vertical-align: middle;'></progress>\n",
              "      [3125/3125 00:31]\n",
              "    </div>\n",
              "    "
            ]
          },
          "metadata": {}
        },
        {
          "output_type": "stream",
          "name": "stderr",
          "text": [
            "/content/mase/src/chop/ir/graph/mase_graph.py:380: FutureWarning: You are using `torch.load` with `weights_only=False` (the current default value), which uses the default pickle module implicitly. It is possible to construct malicious pickle data which will execute arbitrary code during unpickling (See https://github.com/pytorch/pytorch/blob/main/SECURITY.md#untrusted-models for more details). In a future release, the default value for `weights_only` will be flipped to `True`. This limits the functions that could be executed during unpickling. Arbitrary objects will no longer be allowed to be loaded via this mode unless they are explicitly allowlisted by the user via `torch.serialization.add_safe_globals`. We recommend you start setting `weights_only=True` for any use case where you don't have full control of the loaded file. Please open an issue on GitHub for any issues related to this experimental feature.\n",
            "  loaded_model = torch.load(f)\n",
            "\u001b[33mWARNING \u001b[0m \u001b[34mNode finfo not found in loaded metadata.\u001b[0m\n",
            "\u001b[33mWARNING \u001b[0m \u001b[34mNode getattr_2 not found in loaded metadata.\u001b[0m\n"
          ]
        },
        {
          "output_type": "stream",
          "name": "stdout",
          "text": [
            "QAT Accuracy: 0.8402\n",
            "\n",
            "=== Testing Fixed-Point Width: 28 ===\n"
          ]
        },
        {
          "output_type": "stream",
          "name": "stderr",
          "text": [
            "/content/mase/src/chop/tools/huggingface.py:157: FutureWarning: `tokenizer` is deprecated and will be removed in version 5.0.0 for `Trainer.__init__`. Use `processing_class` instead.\n",
            "  trainer = Trainer(\n"
          ]
        },
        {
          "output_type": "display_data",
          "data": {
            "text/plain": [
              "<IPython.core.display.HTML object>"
            ],
            "text/html": [
              "\n",
              "    <div>\n",
              "      \n",
              "      <progress value='3125' max='3125' style='width:300px; height:20px; vertical-align: middle;'></progress>\n",
              "      [3125/3125 00:30]\n",
              "    </div>\n",
              "    "
            ]
          },
          "metadata": {}
        },
        {
          "output_type": "stream",
          "name": "stdout",
          "text": [
            "PTQ Accuracy: 0.8093\n"
          ]
        },
        {
          "output_type": "stream",
          "name": "stderr",
          "text": [
            "/content/mase/src/chop/tools/huggingface.py:157: FutureWarning: `tokenizer` is deprecated and will be removed in version 5.0.0 for `Trainer.__init__`. Use `processing_class` instead.\n",
            "  trainer = Trainer(\n"
          ]
        },
        {
          "output_type": "display_data",
          "data": {
            "text/plain": [
              "<IPython.core.display.HTML object>"
            ],
            "text/html": [
              "\n",
              "    <div>\n",
              "      \n",
              "      <progress value='3125' max='3125' style='width:300px; height:20px; vertical-align: middle;'></progress>\n",
              "      [3125/3125 01:01, Epoch 1/1]\n",
              "    </div>\n",
              "    <table border=\"1\" class=\"dataframe\">\n",
              "  <thead>\n",
              " <tr style=\"text-align: left;\">\n",
              "      <th>Step</th>\n",
              "      <th>Training Loss</th>\n",
              "    </tr>\n",
              "  </thead>\n",
              "  <tbody>\n",
              "    <tr>\n",
              "      <td>500</td>\n",
              "      <td>0.407800</td>\n",
              "    </tr>\n",
              "    <tr>\n",
              "      <td>1000</td>\n",
              "      <td>0.403300</td>\n",
              "    </tr>\n",
              "    <tr>\n",
              "      <td>1500</td>\n",
              "      <td>0.403400</td>\n",
              "    </tr>\n",
              "    <tr>\n",
              "      <td>2000</td>\n",
              "      <td>0.378400</td>\n",
              "    </tr>\n",
              "    <tr>\n",
              "      <td>2500</td>\n",
              "      <td>0.395000</td>\n",
              "    </tr>\n",
              "    <tr>\n",
              "      <td>3000</td>\n",
              "      <td>0.383800</td>\n",
              "    </tr>\n",
              "  </tbody>\n",
              "</table><p>"
            ]
          },
          "metadata": {}
        },
        {
          "output_type": "display_data",
          "data": {
            "text/plain": [
              "<IPython.core.display.HTML object>"
            ],
            "text/html": [
              "\n",
              "    <div>\n",
              "      \n",
              "      <progress value='3125' max='3125' style='width:300px; height:20px; vertical-align: middle;'></progress>\n",
              "      [3125/3125 00:31]\n",
              "    </div>\n",
              "    "
            ]
          },
          "metadata": {}
        },
        {
          "output_type": "stream",
          "name": "stderr",
          "text": [
            "/content/mase/src/chop/ir/graph/mase_graph.py:380: FutureWarning: You are using `torch.load` with `weights_only=False` (the current default value), which uses the default pickle module implicitly. It is possible to construct malicious pickle data which will execute arbitrary code during unpickling (See https://github.com/pytorch/pytorch/blob/main/SECURITY.md#untrusted-models for more details). In a future release, the default value for `weights_only` will be flipped to `True`. This limits the functions that could be executed during unpickling. Arbitrary objects will no longer be allowed to be loaded via this mode unless they are explicitly allowlisted by the user via `torch.serialization.add_safe_globals`. We recommend you start setting `weights_only=True` for any use case where you don't have full control of the loaded file. Please open an issue on GitHub for any issues related to this experimental feature.\n",
            "  loaded_model = torch.load(f)\n",
            "\u001b[33mWARNING \u001b[0m \u001b[34mNode finfo not found in loaded metadata.\u001b[0m\n",
            "\u001b[33mWARNING \u001b[0m \u001b[34mNode getattr_2 not found in loaded metadata.\u001b[0m\n"
          ]
        },
        {
          "output_type": "stream",
          "name": "stdout",
          "text": [
            "QAT Accuracy: 0.8402\n",
            "\n",
            "=== Testing Fixed-Point Width: 32 ===\n"
          ]
        },
        {
          "output_type": "stream",
          "name": "stderr",
          "text": [
            "/content/mase/src/chop/tools/huggingface.py:157: FutureWarning: `tokenizer` is deprecated and will be removed in version 5.0.0 for `Trainer.__init__`. Use `processing_class` instead.\n",
            "  trainer = Trainer(\n"
          ]
        },
        {
          "output_type": "display_data",
          "data": {
            "text/plain": [
              "<IPython.core.display.HTML object>"
            ],
            "text/html": [
              "\n",
              "    <div>\n",
              "      \n",
              "      <progress value='3125' max='3125' style='width:300px; height:20px; vertical-align: middle;'></progress>\n",
              "      [3125/3125 00:30]\n",
              "    </div>\n",
              "    "
            ]
          },
          "metadata": {}
        },
        {
          "output_type": "stream",
          "name": "stdout",
          "text": [
            "PTQ Accuracy: 0.8093\n"
          ]
        },
        {
          "output_type": "stream",
          "name": "stderr",
          "text": [
            "/content/mase/src/chop/tools/huggingface.py:157: FutureWarning: `tokenizer` is deprecated and will be removed in version 5.0.0 for `Trainer.__init__`. Use `processing_class` instead.\n",
            "  trainer = Trainer(\n"
          ]
        },
        {
          "output_type": "display_data",
          "data": {
            "text/plain": [
              "<IPython.core.display.HTML object>"
            ],
            "text/html": [
              "\n",
              "    <div>\n",
              "      \n",
              "      <progress value='3125' max='3125' style='width:300px; height:20px; vertical-align: middle;'></progress>\n",
              "      [3125/3125 01:00, Epoch 1/1]\n",
              "    </div>\n",
              "    <table border=\"1\" class=\"dataframe\">\n",
              "  <thead>\n",
              " <tr style=\"text-align: left;\">\n",
              "      <th>Step</th>\n",
              "      <th>Training Loss</th>\n",
              "    </tr>\n",
              "  </thead>\n",
              "  <tbody>\n",
              "    <tr>\n",
              "      <td>500</td>\n",
              "      <td>0.407800</td>\n",
              "    </tr>\n",
              "    <tr>\n",
              "      <td>1000</td>\n",
              "      <td>0.403300</td>\n",
              "    </tr>\n",
              "    <tr>\n",
              "      <td>1500</td>\n",
              "      <td>0.403400</td>\n",
              "    </tr>\n",
              "    <tr>\n",
              "      <td>2000</td>\n",
              "      <td>0.378400</td>\n",
              "    </tr>\n",
              "    <tr>\n",
              "      <td>2500</td>\n",
              "      <td>0.395000</td>\n",
              "    </tr>\n",
              "    <tr>\n",
              "      <td>3000</td>\n",
              "      <td>0.383800</td>\n",
              "    </tr>\n",
              "  </tbody>\n",
              "</table><p>"
            ]
          },
          "metadata": {}
        },
        {
          "output_type": "display_data",
          "data": {
            "text/plain": [
              "<IPython.core.display.HTML object>"
            ],
            "text/html": [
              "\n",
              "    <div>\n",
              "      \n",
              "      <progress value='3125' max='3125' style='width:300px; height:20px; vertical-align: middle;'></progress>\n",
              "      [3125/3125 00:32]\n",
              "    </div>\n",
              "    "
            ]
          },
          "metadata": {}
        },
        {
          "output_type": "stream",
          "name": "stdout",
          "text": [
            "QAT Accuracy: 0.8402\n"
          ]
        },
        {
          "output_type": "display_data",
          "data": {
            "text/plain": [
              "<Figure size 1000x600 with 1 Axes>"
            ],
            "image/png": "[encoded data removed]"
          },
          "metadata": {}
        }
      ]
    },
    {
      "cell_type": "markdown",
      "source": [
        "# Understanding how many epoch of training until overfitting"
      ],
      "metadata": {
        "id": "zJ3Y4hzEtYBY"
      }
    },
    {
      "cell_type": "code",
      "source": [
        "import matplotlib.pyplot as plt\n",
        "from pathlib import Path\n",
        "from chop import MaseGraph\n",
        "from chop.tools import get_tokenized_dataset, get_trainer\n",
        "\n",
        "checkpoint = \"prajjwal1/bert-tiny\"\n",
        "tokenizer_checkpoint = \"bert-base-uncased\"\n",
        "dataset_name = \"imdb\"\n",
        "\n",
        "\n",
        "# Load dataset and tokenizer\n",
        "dataset, tokenizer = get_tokenized_dataset(\n",
        "    dataset=dataset_name,\n",
        "    checkpoint=tokenizer_checkpoint,\n",
        "    return_tokenizer=True,\n",
        ")\n",
        "\n",
        "# Store accuracy per epoch\n",
        "accuracy_results = []\n",
        "\n",
        "# Training loop for incremental training\n",
        "for epoch in range(1, 11):\n",
        "    print(f\"\\nTraining Epoch {epoch}...\")\n",
        "\n",
        "    # Apply LoRA (if not already applied)\n",
        "    mg, _ = passes.insert_lora_adapter_transform_pass(\n",
        "        mg,\n",
        "        pass_args={\n",
        "            \"rank\": 6,\n",
        "            \"alpha\": 1.0,\n",
        "            \"dropout\": 0.5,\n",
        "        },\n",
        "    )\n",
        "\n",
        "    # Create trainer\n",
        "    trainer = get_trainer(\n",
        "        model=mg.model,\n",
        "        tokenized_dataset=dataset,\n",
        "        tokenizer=tokenizer,\n",
        "        evaluate_metric=\"accuracy\",\n",
        "        num_train_epochs=1,  # Train for one epoch at a time\n",
        "    )\n",
        "\n",
        "    # Train incrementally\n",
        "    trainer.train()\n",
        "\n",
        "    # Evaluate and store results\n",
        "    eval_results = trainer.evaluate()\n",
        "    accuracy = eval_results[\"eval_accuracy\"]\n",
        "    accuracy_results.append(accuracy)\n",
        "    print(f\"Epoch {epoch} Accuracy: {accuracy:.4f}\")\n",
        "\n",
        "    # Fuse LoRA weights after training\n",
        "    mg, _ = passes.fuse_lora_weights_transform_pass(mg)\n",
        "\n",
        "# Plot accuracy trend over epochs\n",
        "plt.figure(figsize=(8, 5))\n",
        "plt.plot(range(1, 11), accuracy_results, marker='o', linestyle='-')\n",
        "plt.xlabel(\"Epoch\")\n",
        "plt.ylabel(\"Accuracy\")\n",
        "plt.title(\"Accuracy vs. Training Epochs (LoRA)\")\n",
        "plt.grid()\n",
        "plt.show()\n"
      ],
      "metadata": {
        "colab": {
          "base_uri": "https://localhost:8080/",
          "height": 1000,
          "referenced_widgets": [
            "ab3262bda32a4b149dd214907a41c567",
            "7948b23c28c445ab8ccd6317a3b9f550",
            "a25101014f674ca689987aacaeffff97",
            "187f79e2c99a49c5b6fa27ae4b694cd0",
            "98fb298595b340dc9f34164b45be9b07",
            "e55ebdb8ec2e49d2a184873650768d3f",
            "903082766835488c8910ab127fbdac6f",
            "3a8b1393d5974c64a673d80f56f3cf74",
            "83c09acf1afd492dbf57662a952a66f4",
            "0898671fd9e64327a3d152024fb02c45",
            "4f34de22af384d6693f9fb99a5fff795"
          ]
        },
        "id": "aBU1zNQxtjuT",
        "outputId": "9dcb0bca-9b50-4c32-9a46-0c53875423e3"
      },
      "execution_count": 33,
      "outputs": [
        {
          "output_type": "stream",
          "name": "stderr",
          "text": [
            "\u001b[32mINFO    \u001b[0m \u001b[34mTokenizing dataset imdb with AutoTokenizer for bert-base-uncased.\u001b[0m\n"
          ]
        },
        {
          "output_type": "display_data",
          "data": {
            "text/plain": [
              "Map:   0%|          | 0/50000 [00:00<?, ? examples/s]"
            ],
            "application/vnd.jupyter.widget-view+json": {
              "version_major": 2,
              "version_minor": 0,
              "model_id": "ab3262bda32a4b149dd214907a41c567"
            }
          },
          "metadata": {}
        },
        {
          "output_type": "stream",
          "name": "stderr",
          "text": [
            "\u001b[32mINFO    \u001b[0m \u001b[34mReplaced node: bert_encoder_layer_0_attention_self_query, target: bert.encoder.layer.0.attention.self.query with LoRALinear module.\u001b[0m\n",
            "\u001b[32mINFO    \u001b[0m \u001b[34mReplaced node: bert_encoder_layer_0_attention_self_key, target: bert.encoder.layer.0.attention.self.key with LoRALinear module.\u001b[0m\n",
            "\u001b[32mINFO    \u001b[0m \u001b[34mReplaced node: bert_encoder_layer_0_attention_self_value, target: bert.encoder.layer.0.attention.self.value with LoRALinear module.\u001b[0m\n",
            "\u001b[32mINFO    \u001b[0m \u001b[34mReplaced node: bert_encoder_layer_0_attention_output_dense, target: bert.encoder.layer.0.attention.output.dense with LoRALinear module.\u001b[0m\n",
            "\u001b[32mINFO    \u001b[0m \u001b[34mReplaced node: bert_encoder_layer_0_intermediate_dense, target: bert.encoder.layer.0.intermediate.dense with LoRALinear module.\u001b[0m\n",
            "\u001b[32mINFO    \u001b[0m \u001b[34mReplaced node: bert_encoder_layer_0_output_dense, target: bert.encoder.layer.0.output.dense with LoRALinear module.\u001b[0m\n",
            "\u001b[32mINFO    \u001b[0m \u001b[34mReplaced node: bert_encoder_layer_1_attention_self_query, target: bert.encoder.layer.1.attention.self.query with LoRALinear module.\u001b[0m\n",
            "\u001b[32mINFO    \u001b[0m \u001b[34mReplaced node: bert_encoder_layer_1_attention_self_key, target: bert.encoder.layer.1.attention.self.key with LoRALinear module.\u001b[0m\n",
            "\u001b[32mINFO    \u001b[0m \u001b[34mReplaced node: bert_encoder_layer_1_attention_self_value, target: bert.encoder.layer.1.attention.self.value with LoRALinear module.\u001b[0m\n",
            "\u001b[32mINFO    \u001b[0m \u001b[34mReplaced node: bert_encoder_layer_1_attention_output_dense, target: bert.encoder.layer.1.attention.output.dense with LoRALinear module.\u001b[0m\n",
            "\u001b[32mINFO    \u001b[0m \u001b[34mReplaced node: bert_encoder_layer_1_intermediate_dense, target: bert.encoder.layer.1.intermediate.dense with LoRALinear module.\u001b[0m\n",
            "\u001b[32mINFO    \u001b[0m \u001b[34mReplaced node: bert_encoder_layer_1_output_dense, target: bert.encoder.layer.1.output.dense with LoRALinear module.\u001b[0m\n",
            "\u001b[32mINFO    \u001b[0m \u001b[34mReplaced node: bert_pooler_dense, target: bert.pooler.dense with LoRALinear module.\u001b[0m\n",
            "\u001b[32mINFO    \u001b[0m \u001b[34mReplaced node: classifier, target: classifier with LoRALinear module.\u001b[0m\n"
          ]
        },
        {
          "output_type": "stream",
          "name": "stdout",
          "text": [
            "\n",
            "Training Epoch 1...\n"
          ]
        },
        {
          "output_type": "stream",
          "name": "stderr",
          "text": [
            "/content/mase/src/chop/tools/huggingface.py:157: FutureWarning: `tokenizer` is deprecated and will be removed in version 5.0.0 for `Trainer.__init__`. Use `processing_class` instead.\n",
            "  trainer = Trainer(\n"
          ]
        },
        {
          "output_type": "display_data",
          "data": {
            "text/plain": [
              "<IPython.core.display.HTML object>"
            ],
            "text/html": [
              "\n",
              "    <div>\n",
              "      \n",
              "      <progress value='3125' max='3125' style='width:300px; height:20px; vertical-align: middle;'></progress>\n",
              "      [3125/3125 01:08, Epoch 1/1]\n",
              "    </div>\n",
              "    <table border=\"1\" class=\"dataframe\">\n",
              "  <thead>\n",
              " <tr style=\"text-align: left;\">\n",
              "      <th>Step</th>\n",
              "      <th>Training Loss</th>\n",
              "    </tr>\n",
              "  </thead>\n",
              "  <tbody>\n",
              "    <tr>\n",
              "      <td>500</td>\n",
              "      <td>0.383700</td>\n",
              "    </tr>\n",
              "    <tr>\n",
              "      <td>1000</td>\n",
              "      <td>0.387400</td>\n",
              "    </tr>\n",
              "    <tr>\n",
              "      <td>1500</td>\n",
              "      <td>0.391700</td>\n",
              "    </tr>\n",
              "    <tr>\n",
              "      <td>2000</td>\n",
              "      <td>0.373000</td>\n",
              "    </tr>\n",
              "    <tr>\n",
              "      <td>2500</td>\n",
              "      <td>0.384900</td>\n",
              "    </tr>\n",
              "    <tr>\n",
              "      <td>3000</td>\n",
              "      <td>0.376800</td>\n",
              "    </tr>\n",
              "  </tbody>\n",
              "</table><p>"
            ]
          },
          "metadata": {}
        },
        {
          "output_type": "display_data",
          "data": {
            "text/plain": [
              "<IPython.core.display.HTML object>"
            ],
            "text/html": [
              "\n",
              "    <div>\n",
              "      \n",
              "      <progress value='3125' max='3125' style='width:300px; height:20px; vertical-align: middle;'></progress>\n",
              "      [3125/3125 00:27]\n",
              "    </div>\n",
              "    "
            ]
          },
          "metadata": {}
        },
        {
          "output_type": "stream",
          "name": "stderr",
          "text": [
            "\u001b[32mINFO    \u001b[0m \u001b[34mFusing LoRALinear weights for bert.encoder.layer.0.attention.self.query.\u001b[0m\n",
            "\u001b[32mINFO    \u001b[0m \u001b[34mFusing LoRALinear weights for bert.encoder.layer.0.attention.self.key.\u001b[0m\n",
            "\u001b[32mINFO    \u001b[0m \u001b[34mFusing LoRALinear weights for bert.encoder.layer.0.attention.self.value.\u001b[0m\n",
            "\u001b[32mINFO    \u001b[0m \u001b[34mFusing LoRALinear weights for bert.encoder.layer.0.attention.output.dense.\u001b[0m\n",
            "\u001b[32mINFO    \u001b[0m \u001b[34mFusing LoRALinear weights for bert.encoder.layer.0.intermediate.dense.\u001b[0m\n",
            "\u001b[32mINFO    \u001b[0m \u001b[34mFusing LoRALinear weights for bert.encoder.layer.0.output.dense.\u001b[0m\n",
            "\u001b[32mINFO    \u001b[0m \u001b[34mFusing LoRALinear weights for bert.encoder.layer.1.attention.self.query.\u001b[0m\n",
            "\u001b[32mINFO    \u001b[0m \u001b[34mFusing LoRALinear weights for bert.encoder.layer.1.attention.self.key.\u001b[0m\n",
            "\u001b[32mINFO    \u001b[0m \u001b[34mFusing LoRALinear weights for bert.encoder.layer.1.attention.self.value.\u001b[0m\n",
            "\u001b[32mINFO    \u001b[0m \u001b[34mFusing LoRALinear weights for bert.encoder.layer.1.attention.output.dense.\u001b[0m\n",
            "\u001b[32mINFO    \u001b[0m \u001b[34mFusing LoRALinear weights for bert.encoder.layer.1.intermediate.dense.\u001b[0m\n",
            "\u001b[32mINFO    \u001b[0m \u001b[34mFusing LoRALinear weights for bert.encoder.layer.1.output.dense.\u001b[0m\n",
            "\u001b[32mINFO    \u001b[0m \u001b[34mFusing LoRALinear weights for bert.pooler.dense.\u001b[0m\n",
            "\u001b[32mINFO    \u001b[0m \u001b[34mFusing LoRALinear weights for classifier.\u001b[0m\n",
            "\u001b[32mINFO    \u001b[0m \u001b[34mReplaced node: bert_encoder_layer_0_attention_self_query, target: bert.encoder.layer.0.attention.self.query with LoRALinear module.\u001b[0m\n",
            "\u001b[32mINFO    \u001b[0m \u001b[34mReplaced node: bert_encoder_layer_0_attention_self_key, target: bert.encoder.layer.0.attention.self.key with LoRALinear module.\u001b[0m\n",
            "\u001b[32mINFO    \u001b[0m \u001b[34mReplaced node: bert_encoder_layer_0_attention_self_value, target: bert.encoder.layer.0.attention.self.value with LoRALinear module.\u001b[0m\n",
            "\u001b[32mINFO    \u001b[0m \u001b[34mReplaced node: bert_encoder_layer_0_attention_output_dense, target: bert.encoder.layer.0.attention.output.dense with LoRALinear module.\u001b[0m\n",
            "\u001b[32mINFO    \u001b[0m \u001b[34mReplaced node: bert_encoder_layer_0_intermediate_dense, target: bert.encoder.layer.0.intermediate.dense with LoRALinear module.\u001b[0m\n",
            "\u001b[32mINFO    \u001b[0m \u001b[34mReplaced node: bert_encoder_layer_0_output_dense, target: bert.encoder.layer.0.output.dense with LoRALinear module.\u001b[0m\n",
            "\u001b[32mINFO    \u001b[0m \u001b[34mReplaced node: bert_encoder_layer_1_attention_self_query, target: bert.encoder.layer.1.attention.self.query with LoRALinear module.\u001b[0m\n",
            "\u001b[32mINFO    \u001b[0m \u001b[34mReplaced node: bert_encoder_layer_1_attention_self_key, target: bert.encoder.layer.1.attention.self.key with LoRALinear module.\u001b[0m\n",
            "\u001b[32mINFO    \u001b[0m \u001b[34mReplaced node: bert_encoder_layer_1_attention_self_value, target: bert.encoder.layer.1.attention.self.value with LoRALinear module.\u001b[0m\n",
            "\u001b[32mINFO    \u001b[0m \u001b[34mReplaced node: bert_encoder_layer_1_attention_output_dense, target: bert.encoder.layer.1.attention.output.dense with LoRALinear module.\u001b[0m\n",
            "\u001b[32mINFO    \u001b[0m \u001b[34mReplaced node: bert_encoder_layer_1_intermediate_dense, target: bert.encoder.layer.1.intermediate.dense with LoRALinear module.\u001b[0m\n",
            "\u001b[32mINFO    \u001b[0m \u001b[34mReplaced node: bert_encoder_layer_1_output_dense, target: bert.encoder.layer.1.output.dense with LoRALinear module.\u001b[0m\n",
            "\u001b[32mINFO    \u001b[0m \u001b[34mReplaced node: bert_pooler_dense, target: bert.pooler.dense with LoRALinear module.\u001b[0m\n",
            "\u001b[32mINFO    \u001b[0m \u001b[34mReplaced node: classifier, target: classifier with LoRALinear module.\u001b[0m\n"
          ]
        },
        {
          "output_type": "stream",
          "name": "stdout",
          "text": [
            "Epoch 1 Accuracy: 0.8452\n",
            "\n",
            "Training Epoch 2...\n"
          ]
        },
        {
          "output_type": "stream",
          "name": "stderr",
          "text": [
            "/content/mase/src/chop/tools/huggingface.py:157: FutureWarning: `tokenizer` is deprecated and will be removed in version 5.0.0 for `Trainer.__init__`. Use `processing_class` instead.\n",
            "  trainer = Trainer(\n"
          ]
        },
        {
          "output_type": "display_data",
          "data": {
            "text/plain": [
              "<IPython.core.display.HTML object>"
            ],
            "text/html": [
              "\n",
              "    <div>\n",
              "      \n",
              "      <progress value='3125' max='3125' style='width:300px; height:20px; vertical-align: middle;'></progress>\n",
              "      [3125/3125 01:09, Epoch 1/1]\n",
              "    </div>\n",
              "    <table border=\"1\" class=\"dataframe\">\n",
              "  <thead>\n",
              " <tr style=\"text-align: left;\">\n",
              "      <th>Step</th>\n",
              "      <th>Training Loss</th>\n",
              "    </tr>\n",
              "  </thead>\n",
              "  <tbody>\n",
              "    <tr>\n",
              "      <td>500</td>\n",
              "      <td>0.356300</td>\n",
              "    </tr>\n",
              "    <tr>\n",
              "      <td>1000</td>\n",
              "      <td>0.367800</td>\n",
              "    </tr>\n",
              "    <tr>\n",
              "      <td>1500</td>\n",
              "      <td>0.374500</td>\n",
              "    </tr>\n",
              "    <tr>\n",
              "      <td>2000</td>\n",
              "      <td>0.360400</td>\n",
              "    </tr>\n",
              "    <tr>\n",
              "      <td>2500</td>\n",
              "      <td>0.377200</td>\n",
              "    </tr>\n",
              "    <tr>\n",
              "      <td>3000</td>\n",
              "      <td>0.373200</td>\n",
              "    </tr>\n",
              "  </tbody>\n",
              "</table><p>"
            ]
          },
          "metadata": {}
        },
        {
          "output_type": "display_data",
          "data": {
            "text/plain": [
              "<IPython.core.display.HTML object>"
            ],
            "text/html": [
              "\n",
              "    <div>\n",
              "      \n",
              "      <progress value='3125' max='3125' style='width:300px; height:20px; vertical-align: middle;'></progress>\n",
              "      [3125/3125 00:27]\n",
              "    </div>\n",
              "    "
            ]
          },
          "metadata": {}
        },
        {
          "output_type": "stream",
          "name": "stderr",
          "text": [
            "\u001b[32mINFO    \u001b[0m \u001b[34mFusing LoRALinear weights for bert.encoder.layer.0.attention.self.query.\u001b[0m\n",
            "\u001b[32mINFO    \u001b[0m \u001b[34mFusing LoRALinear weights for bert.encoder.layer.0.attention.self.key.\u001b[0m\n",
            "\u001b[32mINFO    \u001b[0m \u001b[34mFusing LoRALinear weights for bert.encoder.layer.0.attention.self.value.\u001b[0m\n",
            "\u001b[32mINFO    \u001b[0m \u001b[34mFusing LoRALinear weights for bert.encoder.layer.0.attention.output.dense.\u001b[0m\n",
            "\u001b[32mINFO    \u001b[0m \u001b[34mFusing LoRALinear weights for bert.encoder.layer.0.intermediate.dense.\u001b[0m\n",
            "\u001b[32mINFO    \u001b[0m \u001b[34mFusing LoRALinear weights for bert.encoder.layer.0.output.dense.\u001b[0m\n",
            "\u001b[32mINFO    \u001b[0m \u001b[34mFusing LoRALinear weights for bert.encoder.layer.1.attention.self.query.\u001b[0m\n",
            "\u001b[32mINFO    \u001b[0m \u001b[34mFusing LoRALinear weights for bert.encoder.layer.1.attention.self.key.\u001b[0m\n",
            "\u001b[32mINFO    \u001b[0m \u001b[34mFusing LoRALinear weights for bert.encoder.layer.1.attention.self.value.\u001b[0m\n",
            "\u001b[32mINFO    \u001b[0m \u001b[34mFusing LoRALinear weights for bert.encoder.layer.1.attention.output.dense.\u001b[0m\n",
            "\u001b[32mINFO    \u001b[0m \u001b[34mFusing LoRALinear weights for bert.encoder.layer.1.intermediate.dense.\u001b[0m\n",
            "\u001b[32mINFO    \u001b[0m \u001b[34mFusing LoRALinear weights for bert.encoder.layer.1.output.dense.\u001b[0m\n",
            "\u001b[32mINFO    \u001b[0m \u001b[34mFusing LoRALinear weights for bert.pooler.dense.\u001b[0m\n",
            "\u001b[32mINFO    \u001b[0m \u001b[34mFusing LoRALinear weights for classifier.\u001b[0m\n",
            "\u001b[32mINFO    \u001b[0m \u001b[34mReplaced node: bert_encoder_layer_0_attention_self_query, target: bert.encoder.layer.0.attention.self.query with LoRALinear module.\u001b[0m\n",
            "\u001b[32mINFO    \u001b[0m \u001b[34mReplaced node: bert_encoder_layer_0_attention_self_key, target: bert.encoder.layer.0.attention.self.key with LoRALinear module.\u001b[0m\n",
            "\u001b[32mINFO    \u001b[0m \u001b[34mReplaced node: bert_encoder_layer_0_attention_self_value, target: bert.encoder.layer.0.attention.self.value with LoRALinear module.\u001b[0m\n",
            "\u001b[32mINFO    \u001b[0m \u001b[34mReplaced node: bert_encoder_layer_0_attention_output_dense, target: bert.encoder.layer.0.attention.output.dense with LoRALinear module.\u001b[0m\n",
            "\u001b[32mINFO    \u001b[0m \u001b[34mReplaced node: bert_encoder_layer_0_intermediate_dense, target: bert.encoder.layer.0.intermediate.dense with LoRALinear module.\u001b[0m\n",
            "\u001b[32mINFO    \u001b[0m \u001b[34mReplaced node: bert_encoder_layer_0_output_dense, target: bert.encoder.layer.0.output.dense with LoRALinear module.\u001b[0m\n",
            "\u001b[32mINFO    \u001b[0m \u001b[34mReplaced node: bert_encoder_layer_1_attention_self_query, target: bert.encoder.layer.1.attention.self.query with LoRALinear module.\u001b[0m\n",
            "\u001b[32mINFO    \u001b[0m \u001b[34mReplaced node: bert_encoder_layer_1_attention_self_key, target: bert.encoder.layer.1.attention.self.key with LoRALinear module.\u001b[0m\n",
            "\u001b[32mINFO    \u001b[0m \u001b[34mReplaced node: bert_encoder_layer_1_attention_self_value, target: bert.encoder.layer.1.attention.self.value with LoRALinear module.\u001b[0m\n",
            "\u001b[32mINFO    \u001b[0m \u001b[34mReplaced node: bert_encoder_layer_1_attention_output_dense, target: bert.encoder.layer.1.attention.output.dense with LoRALinear module.\u001b[0m\n",
            "\u001b[32mINFO    \u001b[0m \u001b[34mReplaced node: bert_encoder_layer_1_intermediate_dense, target: bert.encoder.layer.1.intermediate.dense with LoRALinear module.\u001b[0m\n",
            "\u001b[32mINFO    \u001b[0m \u001b[34mReplaced node: bert_encoder_layer_1_output_dense, target: bert.encoder.layer.1.output.dense with LoRALinear module.\u001b[0m\n",
            "\u001b[32mINFO    \u001b[0m \u001b[34mReplaced node: bert_pooler_dense, target: bert.pooler.dense with LoRALinear module.\u001b[0m\n",
            "\u001b[32mINFO    \u001b[0m \u001b[34mReplaced node: classifier, target: classifier with LoRALinear module.\u001b[0m\n"
          ]
        },
        {
          "output_type": "stream",
          "name": "stdout",
          "text": [
            "Epoch 2 Accuracy: 0.8505\n",
            "\n",
            "Training Epoch 3...\n"
          ]
        },
        {
          "output_type": "stream",
          "name": "stderr",
          "text": [
            "/content/mase/src/chop/tools/huggingface.py:157: FutureWarning: `tokenizer` is deprecated and will be removed in version 5.0.0 for `Trainer.__init__`. Use `processing_class` instead.\n",
            "  trainer = Trainer(\n"
          ]
        },
        {
          "output_type": "display_data",
          "data": {
            "text/plain": [
              "<IPython.core.display.HTML object>"
            ],
            "text/html": [
              "\n",
              "    <div>\n",
              "      \n",
              "      <progress value='3125' max='3125' style='width:300px; height:20px; vertical-align: middle;'></progress>\n",
              "      [3125/3125 01:08, Epoch 1/1]\n",
              "    </div>\n",
              "    <table border=\"1\" class=\"dataframe\">\n",
              "  <thead>\n",
              " <tr style=\"text-align: left;\">\n",
              "      <th>Step</th>\n",
              "      <th>Training Loss</th>\n",
              "    </tr>\n",
              "  </thead>\n",
              "  <tbody>\n",
              "    <tr>\n",
              "      <td>500</td>\n",
              "      <td>0.337700</td>\n",
              "    </tr>\n",
              "    <tr>\n",
              "      <td>1000</td>\n",
              "      <td>0.354500</td>\n",
              "    </tr>\n",
              "    <tr>\n",
              "      <td>1500</td>\n",
              "      <td>0.361800</td>\n",
              "    </tr>\n",
              "    <tr>\n",
              "      <td>2000</td>\n",
              "      <td>0.352200</td>\n",
              "    </tr>\n",
              "    <tr>\n",
              "      <td>2500</td>\n",
              "      <td>0.374100</td>\n",
              "    </tr>\n",
              "    <tr>\n",
              "      <td>3000</td>\n",
              "      <td>0.375100</td>\n",
              "    </tr>\n",
              "  </tbody>\n",
              "</table><p>"
            ]
          },
          "metadata": {}
        },
        {
          "output_type": "display_data",
          "data": {
            "text/plain": [
              "<IPython.core.display.HTML object>"
            ],
            "text/html": [
              "\n",
              "    <div>\n",
              "      \n",
              "      <progress value='3125' max='3125' style='width:300px; height:20px; vertical-align: middle;'></progress>\n",
              "      [3125/3125 00:26]\n",
              "    </div>\n",
              "    "
            ]
          },
          "metadata": {}
        },
        {
          "output_type": "stream",
          "name": "stderr",
          "text": [
            "\u001b[32mINFO    \u001b[0m \u001b[34mFusing LoRALinear weights for bert.encoder.layer.0.attention.self.query.\u001b[0m\n",
            "\u001b[32mINFO    \u001b[0m \u001b[34mFusing LoRALinear weights for bert.encoder.layer.0.attention.self.key.\u001b[0m\n",
            "\u001b[32mINFO    \u001b[0m \u001b[34mFusing LoRALinear weights for bert.encoder.layer.0.attention.self.value.\u001b[0m\n",
            "\u001b[32mINFO    \u001b[0m \u001b[34mFusing LoRALinear weights for bert.encoder.layer.0.attention.output.dense.\u001b[0m\n",
            "\u001b[32mINFO    \u001b[0m \u001b[34mFusing LoRALinear weights for bert.encoder.layer.0.intermediate.dense.\u001b[0m\n",
            "\u001b[32mINFO    \u001b[0m \u001b[34mFusing LoRALinear weights for bert.encoder.layer.0.output.dense.\u001b[0m\n",
            "\u001b[32mINFO    \u001b[0m \u001b[34mFusing LoRALinear weights for bert.encoder.layer.1.attention.self.query.\u001b[0m\n",
            "\u001b[32mINFO    \u001b[0m \u001b[34mFusing LoRALinear weights for bert.encoder.layer.1.attention.self.key.\u001b[0m\n",
            "\u001b[32mINFO    \u001b[0m \u001b[34mFusing LoRALinear weights for bert.encoder.layer.1.attention.self.value.\u001b[0m\n",
            "\u001b[32mINFO    \u001b[0m \u001b[34mFusing LoRALinear weights for bert.encoder.layer.1.attention.output.dense.\u001b[0m\n",
            "\u001b[32mINFO    \u001b[0m \u001b[34mFusing LoRALinear weights for bert.encoder.layer.1.intermediate.dense.\u001b[0m\n",
            "\u001b[32mINFO    \u001b[0m \u001b[34mFusing LoRALinear weights for bert.encoder.layer.1.output.dense.\u001b[0m\n",
            "\u001b[32mINFO    \u001b[0m \u001b[34mFusing LoRALinear weights for bert.pooler.dense.\u001b[0m\n",
            "\u001b[32mINFO    \u001b[0m \u001b[34mFusing LoRALinear weights for classifier.\u001b[0m\n",
            "\u001b[32mINFO    \u001b[0m \u001b[34mReplaced node: bert_encoder_layer_0_attention_self_query, target: bert.encoder.layer.0.attention.self.query with LoRALinear module.\u001b[0m\n",
            "\u001b[32mINFO    \u001b[0m \u001b[34mReplaced node: bert_encoder_layer_0_attention_self_key, target: bert.encoder.layer.0.attention.self.key with LoRALinear module.\u001b[0m\n",
            "\u001b[32mINFO    \u001b[0m \u001b[34mReplaced node: bert_encoder_layer_0_attention_self_value, target: bert.encoder.layer.0.attention.self.value with LoRALinear module.\u001b[0m\n",
            "\u001b[32mINFO    \u001b[0m \u001b[34mReplaced node: bert_encoder_layer_0_attention_output_dense, target: bert.encoder.layer.0.attention.output.dense with LoRALinear module.\u001b[0m\n",
            "\u001b[32mINFO    \u001b[0m \u001b[34mReplaced node: bert_encoder_layer_0_intermediate_dense, target: bert.encoder.layer.0.intermediate.dense with LoRALinear module.\u001b[0m\n",
            "\u001b[32mINFO    \u001b[0m \u001b[34mReplaced node: bert_encoder_layer_0_output_dense, target: bert.encoder.layer.0.output.dense with LoRALinear module.\u001b[0m\n",
            "\u001b[32mINFO    \u001b[0m \u001b[34mReplaced node: bert_encoder_layer_1_attention_self_query, target: bert.encoder.layer.1.attention.self.query with LoRALinear module.\u001b[0m\n",
            "\u001b[32mINFO    \u001b[0m \u001b[34mReplaced node: bert_encoder_layer_1_attention_self_key, target: bert.encoder.layer.1.attention.self.key with LoRALinear module.\u001b[0m\n",
            "\u001b[32mINFO    \u001b[0m \u001b[34mReplaced node: bert_encoder_layer_1_attention_self_value, target: bert.encoder.layer.1.attention.self.value with LoRALinear module.\u001b[0m\n",
            "\u001b[32mINFO    \u001b[0m \u001b[34mReplaced node: bert_encoder_layer_1_attention_output_dense, target: bert.encoder.layer.1.attention.output.dense with LoRALinear module.\u001b[0m\n",
            "\u001b[32mINFO    \u001b[0m \u001b[34mReplaced node: bert_encoder_layer_1_intermediate_dense, target: bert.encoder.layer.1.intermediate.dense with LoRALinear module.\u001b[0m\n",
            "\u001b[32mINFO    \u001b[0m \u001b[34mReplaced node: bert_encoder_layer_1_output_dense, target: bert.encoder.layer.1.output.dense with LoRALinear module.\u001b[0m\n",
            "\u001b[32mINFO    \u001b[0m \u001b[34mReplaced node: bert_pooler_dense, target: bert.pooler.dense with LoRALinear module.\u001b[0m\n",
            "\u001b[32mINFO    \u001b[0m \u001b[34mReplaced node: classifier, target: classifier with LoRALinear module.\u001b[0m\n"
          ]
        },
        {
          "output_type": "stream",
          "name": "stdout",
          "text": [
            "Epoch 3 Accuracy: 0.8534\n",
            "\n",
            "Training Epoch 4...\n"
          ]
        },
        {
          "output_type": "stream",
          "name": "stderr",
          "text": [
            "/content/mase/src/chop/tools/huggingface.py:157: FutureWarning: `tokenizer` is deprecated and will be removed in version 5.0.0 for `Trainer.__init__`. Use `processing_class` instead.\n",
            "  trainer = Trainer(\n"
          ]
        },
        {
          "output_type": "display_data",
          "data": {
            "text/plain": [
              "<IPython.core.display.HTML object>"
            ],
            "text/html": [
              "\n",
              "    <div>\n",
              "      \n",
              "      <progress value='3125' max='3125' style='width:300px; height:20px; vertical-align: middle;'></progress>\n",
              "      [3125/3125 01:06, Epoch 1/1]\n",
              "    </div>\n",
              "    <table border=\"1\" class=\"dataframe\">\n",
              "  <thead>\n",
              " <tr style=\"text-align: left;\">\n",
              "      <th>Step</th>\n",
              "      <th>Training Loss</th>\n",
              "    </tr>\n",
              "  </thead>\n",
              "  <tbody>\n",
              "    <tr>\n",
              "      <td>500</td>\n",
              "      <td>0.316700</td>\n",
              "    </tr>\n",
              "    <tr>\n",
              "      <td>1000</td>\n",
              "      <td>0.346000</td>\n",
              "    </tr>\n",
              "    <tr>\n",
              "      <td>1500</td>\n",
              "      <td>0.351600</td>\n",
              "    </tr>\n",
              "    <tr>\n",
              "      <td>2000</td>\n",
              "      <td>0.342300</td>\n",
              "    </tr>\n",
              "    <tr>\n",
              "      <td>2500</td>\n",
              "      <td>0.372100</td>\n",
              "    </tr>\n",
              "    <tr>\n",
              "      <td>3000</td>\n",
              "      <td>0.381100</td>\n",
              "    </tr>\n",
              "  </tbody>\n",
              "</table><p>"
            ]
          },
          "metadata": {}
        },
        {
          "output_type": "display_data",
          "data": {
            "text/plain": [
              "<IPython.core.display.HTML object>"
            ],
            "text/html": [
              "\n",
              "    <div>\n",
              "      \n",
              "      <progress value='3125' max='3125' style='width:300px; height:20px; vertical-align: middle;'></progress>\n",
              "      [3125/3125 00:25]\n",
              "    </div>\n",
              "    "
            ]
          },
          "metadata": {}
        },
        {
          "output_type": "stream",
          "name": "stderr",
          "text": [
            "\u001b[32mINFO    \u001b[0m \u001b[34mFusing LoRALinear weights for bert.encoder.layer.0.attention.self.query.\u001b[0m\n",
            "\u001b[32mINFO    \u001b[0m \u001b[34mFusing LoRALinear weights for bert.encoder.layer.0.attention.self.key.\u001b[0m\n",
            "\u001b[32mINFO    \u001b[0m \u001b[34mFusing LoRALinear weights for bert.encoder.layer.0.attention.self.value.\u001b[0m\n",
            "\u001b[32mINFO    \u001b[0m \u001b[34mFusing LoRALinear weights for bert.encoder.layer.0.attention.output.dense.\u001b[0m\n",
            "\u001b[32mINFO    \u001b[0m \u001b[34mFusing LoRALinear weights for bert.encoder.layer.0.intermediate.dense.\u001b[0m\n",
            "\u001b[32mINFO    \u001b[0m \u001b[34mFusing LoRALinear weights for bert.encoder.layer.0.output.dense.\u001b[0m\n",
            "\u001b[32mINFO    \u001b[0m \u001b[34mFusing LoRALinear weights for bert.encoder.layer.1.attention.self.query.\u001b[0m\n",
            "\u001b[32mINFO    \u001b[0m \u001b[34mFusing LoRALinear weights for bert.encoder.layer.1.attention.self.key.\u001b[0m\n",
            "\u001b[32mINFO    \u001b[0m \u001b[34mFusing LoRALinear weights for bert.encoder.layer.1.attention.self.value.\u001b[0m\n",
            "\u001b[32mINFO    \u001b[0m \u001b[34mFusing LoRALinear weights for bert.encoder.layer.1.attention.output.dense.\u001b[0m\n",
            "\u001b[32mINFO    \u001b[0m \u001b[34mFusing LoRALinear weights for bert.encoder.layer.1.intermediate.dense.\u001b[0m\n",
            "\u001b[32mINFO    \u001b[0m \u001b[34mFusing LoRALinear weights for bert.encoder.layer.1.output.dense.\u001b[0m\n",
            "\u001b[32mINFO    \u001b[0m \u001b[34mFusing LoRALinear weights for bert.pooler.dense.\u001b[0m\n",
            "\u001b[32mINFO    \u001b[0m \u001b[34mFusing LoRALinear weights for classifier.\u001b[0m\n",
            "\u001b[32mINFO    \u001b[0m \u001b[34mReplaced node: bert_encoder_layer_0_attention_self_query, target: bert.encoder.layer.0.attention.self.query with LoRALinear module.\u001b[0m\n",
            "\u001b[32mINFO    \u001b[0m \u001b[34mReplaced node: bert_encoder_layer_0_attention_self_key, target: bert.encoder.layer.0.attention.self.key with LoRALinear module.\u001b[0m\n",
            "\u001b[32mINFO    \u001b[0m \u001b[34mReplaced node: bert_encoder_layer_0_attention_self_value, target: bert.encoder.layer.0.attention.self.value with LoRALinear module.\u001b[0m\n",
            "\u001b[32mINFO    \u001b[0m \u001b[34mReplaced node: bert_encoder_layer_0_attention_output_dense, target: bert.encoder.layer.0.attention.output.dense with LoRALinear module.\u001b[0m\n",
            "\u001b[32mINFO    \u001b[0m \u001b[34mReplaced node: bert_encoder_layer_0_intermediate_dense, target: bert.encoder.layer.0.intermediate.dense with LoRALinear module.\u001b[0m\n",
            "\u001b[32mINFO    \u001b[0m \u001b[34mReplaced node: bert_encoder_layer_0_output_dense, target: bert.encoder.layer.0.output.dense with LoRALinear module.\u001b[0m\n",
            "\u001b[32mINFO    \u001b[0m \u001b[34mReplaced node: bert_encoder_layer_1_attention_self_query, target: bert.encoder.layer.1.attention.self.query with LoRALinear module.\u001b[0m\n",
            "\u001b[32mINFO    \u001b[0m \u001b[34mReplaced node: bert_encoder_layer_1_attention_self_key, target: bert.encoder.layer.1.attention.self.key with LoRALinear module.\u001b[0m\n",
            "\u001b[32mINFO    \u001b[0m \u001b[34mReplaced node: bert_encoder_layer_1_attention_self_value, target: bert.encoder.layer.1.attention.self.value with LoRALinear module.\u001b[0m\n",
            "\u001b[32mINFO    \u001b[0m \u001b[34mReplaced node: bert_encoder_layer_1_attention_output_dense, target: bert.encoder.layer.1.attention.output.dense with LoRALinear module.\u001b[0m\n",
            "\u001b[32mINFO    \u001b[0m \u001b[34mReplaced node: bert_encoder_layer_1_intermediate_dense, target: bert.encoder.layer.1.intermediate.dense with LoRALinear module.\u001b[0m\n",
            "\u001b[32mINFO    \u001b[0m \u001b[34mReplaced node: bert_encoder_layer_1_output_dense, target: bert.encoder.layer.1.output.dense with LoRALinear module.\u001b[0m\n",
            "\u001b[32mINFO    \u001b[0m \u001b[34mReplaced node: bert_pooler_dense, target: bert.pooler.dense with LoRALinear module.\u001b[0m\n",
            "\u001b[32mINFO    \u001b[0m \u001b[34mReplaced node: classifier, target: classifier with LoRALinear module.\u001b[0m\n"
          ]
        },
        {
          "output_type": "stream",
          "name": "stdout",
          "text": [
            "Epoch 4 Accuracy: 0.8539\n",
            "\n",
            "Training Epoch 5...\n"
          ]
        },
        {
          "output_type": "stream",
          "name": "stderr",
          "text": [
            "/content/mase/src/chop/tools/huggingface.py:157: FutureWarning: `tokenizer` is deprecated and will be removed in version 5.0.0 for `Trainer.__init__`. Use `processing_class` instead.\n",
            "  trainer = Trainer(\n"
          ]
        },
        {
          "output_type": "display_data",
          "data": {
            "text/plain": [
              "<IPython.core.display.HTML object>"
            ],
            "text/html": [
              "\n",
              "    <div>\n",
              "      \n",
              "      <progress value='3125' max='3125' style='width:300px; height:20px; vertical-align: middle;'></progress>\n",
              "      [3125/3125 01:09, Epoch 1/1]\n",
              "    </div>\n",
              "    <table border=\"1\" class=\"dataframe\">\n",
              "  <thead>\n",
              " <tr style=\"text-align: left;\">\n",
              "      <th>Step</th>\n",
              "      <th>Training Loss</th>\n",
              "    </tr>\n",
              "  </thead>\n",
              "  <tbody>\n",
              "    <tr>\n",
              "      <td>500</td>\n",
              "      <td>0.294200</td>\n",
              "    </tr>\n",
              "    <tr>\n",
              "      <td>1000</td>\n",
              "      <td>0.325200</td>\n",
              "    </tr>\n",
              "    <tr>\n",
              "      <td>1500</td>\n",
              "      <td>0.335000</td>\n",
              "    </tr>\n",
              "    <tr>\n",
              "      <td>2000</td>\n",
              "      <td>0.332400</td>\n",
              "    </tr>\n",
              "    <tr>\n",
              "      <td>2500</td>\n",
              "      <td>0.372600</td>\n",
              "    </tr>\n",
              "    <tr>\n",
              "      <td>3000</td>\n",
              "      <td>0.388200</td>\n",
              "    </tr>\n",
              "  </tbody>\n",
              "</table><p>"
            ]
          },
          "metadata": {}
        },
        {
          "output_type": "display_data",
          "data": {
            "text/plain": [
              "<IPython.core.display.HTML object>"
            ],
            "text/html": [
              "\n",
              "    <div>\n",
              "      \n",
              "      <progress value='3125' max='3125' style='width:300px; height:20px; vertical-align: middle;'></progress>\n",
              "      [3125/3125 00:26]\n",
              "    </div>\n",
              "    "
            ]
          },
          "metadata": {}
        },
        {
          "output_type": "stream",
          "name": "stderr",
          "text": [
            "\u001b[32mINFO    \u001b[0m \u001b[34mFusing LoRALinear weights for bert.encoder.layer.0.attention.self.query.\u001b[0m\n",
            "\u001b[32mINFO    \u001b[0m \u001b[34mFusing LoRALinear weights for bert.encoder.layer.0.attention.self.key.\u001b[0m\n",
            "\u001b[32mINFO    \u001b[0m \u001b[34mFusing LoRALinear weights for bert.encoder.layer.0.attention.self.value.\u001b[0m\n",
            "\u001b[32mINFO    \u001b[0m \u001b[34mFusing LoRALinear weights for bert.encoder.layer.0.attention.output.dense.\u001b[0m\n",
            "\u001b[32mINFO    \u001b[0m \u001b[34mFusing LoRALinear weights for bert.encoder.layer.0.intermediate.dense.\u001b[0m\n",
            "\u001b[32mINFO    \u001b[0m \u001b[34mFusing LoRALinear weights for bert.encoder.layer.0.output.dense.\u001b[0m\n",
            "\u001b[32mINFO    \u001b[0m \u001b[34mFusing LoRALinear weights for bert.encoder.layer.1.attention.self.query.\u001b[0m\n",
            "\u001b[32mINFO    \u001b[0m \u001b[34mFusing LoRALinear weights for bert.encoder.layer.1.attention.self.key.\u001b[0m\n",
            "\u001b[32mINFO    \u001b[0m \u001b[34mFusing LoRALinear weights for bert.encoder.layer.1.attention.self.value.\u001b[0m\n",
            "\u001b[32mINFO    \u001b[0m \u001b[34mFusing LoRALinear weights for bert.encoder.layer.1.attention.output.dense.\u001b[0m\n",
            "\u001b[32mINFO    \u001b[0m \u001b[34mFusing LoRALinear weights for bert.encoder.layer.1.intermediate.dense.\u001b[0m\n",
            "\u001b[32mINFO    \u001b[0m \u001b[34mFusing LoRALinear weights for bert.encoder.layer.1.output.dense.\u001b[0m\n",
            "\u001b[32mINFO    \u001b[0m \u001b[34mFusing LoRALinear weights for bert.pooler.dense.\u001b[0m\n",
            "\u001b[32mINFO    \u001b[0m \u001b[34mFusing LoRALinear weights for classifier.\u001b[0m\n",
            "\u001b[32mINFO    \u001b[0m \u001b[34mReplaced node: bert_encoder_layer_0_attention_self_query, target: bert.encoder.layer.0.attention.self.query with LoRALinear module.\u001b[0m\n",
            "\u001b[32mINFO    \u001b[0m \u001b[34mReplaced node: bert_encoder_layer_0_attention_self_key, target: bert.encoder.layer.0.attention.self.key with LoRALinear module.\u001b[0m\n",
            "\u001b[32mINFO    \u001b[0m \u001b[34mReplaced node: bert_encoder_layer_0_attention_self_value, target: bert.encoder.layer.0.attention.self.value with LoRALinear module.\u001b[0m\n",
            "\u001b[32mINFO    \u001b[0m \u001b[34mReplaced node: bert_encoder_layer_0_attention_output_dense, target: bert.encoder.layer.0.attention.output.dense with LoRALinear module.\u001b[0m\n",
            "\u001b[32mINFO    \u001b[0m \u001b[34mReplaced node: bert_encoder_layer_0_intermediate_dense, target: bert.encoder.layer.0.intermediate.dense with LoRALinear module.\u001b[0m\n",
            "\u001b[32mINFO    \u001b[0m \u001b[34mReplaced node: bert_encoder_layer_0_output_dense, target: bert.encoder.layer.0.output.dense with LoRALinear module.\u001b[0m\n",
            "\u001b[32mINFO    \u001b[0m \u001b[34mReplaced node: bert_encoder_layer_1_attention_self_query, target: bert.encoder.layer.1.attention.self.query with LoRALinear module.\u001b[0m\n",
            "\u001b[32mINFO    \u001b[0m \u001b[34mReplaced node: bert_encoder_layer_1_attention_self_key, target: bert.encoder.layer.1.attention.self.key with LoRALinear module.\u001b[0m\n",
            "\u001b[32mINFO    \u001b[0m \u001b[34mReplaced node: bert_encoder_layer_1_attention_self_value, target: bert.encoder.layer.1.attention.self.value with LoRALinear module.\u001b[0m\n",
            "\u001b[32mINFO    \u001b[0m \u001b[34mReplaced node: bert_encoder_layer_1_attention_output_dense, target: bert.encoder.layer.1.attention.output.dense with LoRALinear module.\u001b[0m\n",
            "\u001b[32mINFO    \u001b[0m \u001b[34mReplaced node: bert_encoder_layer_1_intermediate_dense, target: bert.encoder.layer.1.intermediate.dense with LoRALinear module.\u001b[0m\n",
            "\u001b[32mINFO    \u001b[0m \u001b[34mReplaced node: bert_encoder_layer_1_output_dense, target: bert.encoder.layer.1.output.dense with LoRALinear module.\u001b[0m\n",
            "\u001b[32mINFO    \u001b[0m \u001b[34mReplaced node: bert_pooler_dense, target: bert.pooler.dense with LoRALinear module.\u001b[0m\n",
            "\u001b[32mINFO    \u001b[0m \u001b[34mReplaced node: classifier, target: classifier with LoRALinear module.\u001b[0m\n"
          ]
        },
        {
          "output_type": "stream",
          "name": "stdout",
          "text": [
            "Epoch 5 Accuracy: 0.8544\n",
            "\n",
            "Training Epoch 6...\n"
          ]
        },
        {
          "output_type": "stream",
          "name": "stderr",
          "text": [
            "/content/mase/src/chop/tools/huggingface.py:157: FutureWarning: `tokenizer` is deprecated and will be removed in version 5.0.0 for `Trainer.__init__`. Use `processing_class` instead.\n",
            "  trainer = Trainer(\n"
          ]
        },
        {
          "output_type": "display_data",
          "data": {
            "text/plain": [
              "<IPython.core.display.HTML object>"
            ],
            "text/html": [
              "\n",
              "    <div>\n",
              "      \n",
              "      <progress value='3125' max='3125' style='width:300px; height:20px; vertical-align: middle;'></progress>\n",
              "      [3125/3125 01:07, Epoch 1/1]\n",
              "    </div>\n",
              "    <table border=\"1\" class=\"dataframe\">\n",
              "  <thead>\n",
              " <tr style=\"text-align: left;\">\n",
              "      <th>Step</th>\n",
              "      <th>Training Loss</th>\n",
              "    </tr>\n",
              "  </thead>\n",
              "  <tbody>\n",
              "    <tr>\n",
              "      <td>500</td>\n",
              "      <td>0.268400</td>\n",
              "    </tr>\n",
              "    <tr>\n",
              "      <td>1000</td>\n",
              "      <td>0.292500</td>\n",
              "    </tr>\n",
              "    <tr>\n",
              "      <td>1500</td>\n",
              "      <td>0.323000</td>\n",
              "    </tr>\n",
              "    <tr>\n",
              "      <td>2000</td>\n",
              "      <td>0.329400</td>\n",
              "    </tr>\n",
              "    <tr>\n",
              "      <td>2500</td>\n",
              "      <td>0.378200</td>\n",
              "    </tr>\n",
              "    <tr>\n",
              "      <td>3000</td>\n",
              "      <td>0.401400</td>\n",
              "    </tr>\n",
              "  </tbody>\n",
              "</table><p>"
            ]
          },
          "metadata": {}
        },
        {
          "output_type": "display_data",
          "data": {
            "text/plain": [
              "<IPython.core.display.HTML object>"
            ],
            "text/html": [
              "\n",
              "    <div>\n",
              "      \n",
              "      <progress value='3125' max='3125' style='width:300px; height:20px; vertical-align: middle;'></progress>\n",
              "      [3125/3125 00:26]\n",
              "    </div>\n",
              "    "
            ]
          },
          "metadata": {}
        },
        {
          "output_type": "stream",
          "name": "stderr",
          "text": [
            "\u001b[32mINFO    \u001b[0m \u001b[34mFusing LoRALinear weights for bert.encoder.layer.0.attention.self.query.\u001b[0m\n",
            "\u001b[32mINFO    \u001b[0m \u001b[34mFusing LoRALinear weights for bert.encoder.layer.0.attention.self.key.\u001b[0m\n",
            "\u001b[32mINFO    \u001b[0m \u001b[34mFusing LoRALinear weights for bert.encoder.layer.0.attention.self.value.\u001b[0m\n",
            "\u001b[32mINFO    \u001b[0m \u001b[34mFusing LoRALinear weights for bert.encoder.layer.0.attention.output.dense.\u001b[0m\n",
            "\u001b[32mINFO    \u001b[0m \u001b[34mFusing LoRALinear weights for bert.encoder.layer.0.intermediate.dense.\u001b[0m\n",
            "\u001b[32mINFO    \u001b[0m \u001b[34mFusing LoRALinear weights for bert.encoder.layer.0.output.dense.\u001b[0m\n",
            "\u001b[32mINFO    \u001b[0m \u001b[34mFusing LoRALinear weights for bert.encoder.layer.1.attention.self.query.\u001b[0m\n",
            "\u001b[32mINFO    \u001b[0m \u001b[34mFusing LoRALinear weights for bert.encoder.layer.1.attention.self.key.\u001b[0m\n",
            "\u001b[32mINFO    \u001b[0m \u001b[34mFusing LoRALinear weights for bert.encoder.layer.1.attention.self.value.\u001b[0m\n",
            "\u001b[32mINFO    \u001b[0m \u001b[34mFusing LoRALinear weights for bert.encoder.layer.1.attention.output.dense.\u001b[0m\n",
            "\u001b[32mINFO    \u001b[0m \u001b[34mFusing LoRALinear weights for bert.encoder.layer.1.intermediate.dense.\u001b[0m\n",
            "\u001b[32mINFO    \u001b[0m \u001b[34mFusing LoRALinear weights for bert.encoder.layer.1.output.dense.\u001b[0m\n",
            "\u001b[32mINFO    \u001b[0m \u001b[34mFusing LoRALinear weights for bert.pooler.dense.\u001b[0m\n",
            "\u001b[32mINFO    \u001b[0m \u001b[34mFusing LoRALinear weights for classifier.\u001b[0m\n",
            "\u001b[32mINFO    \u001b[0m \u001b[34mReplaced node: bert_encoder_layer_0_attention_self_query, target: bert.encoder.layer.0.attention.self.query with LoRALinear module.\u001b[0m\n",
            "\u001b[32mINFO    \u001b[0m \u001b[34mReplaced node: bert_encoder_layer_0_attention_self_key, target: bert.encoder.layer.0.attention.self.key with LoRALinear module.\u001b[0m\n",
            "\u001b[32mINFO    \u001b[0m \u001b[34mReplaced node: bert_encoder_layer_0_attention_self_value, target: bert.encoder.layer.0.attention.self.value with LoRALinear module.\u001b[0m\n",
            "\u001b[32mINFO    \u001b[0m \u001b[34mReplaced node: bert_encoder_layer_0_attention_output_dense, target: bert.encoder.layer.0.attention.output.dense with LoRALinear module.\u001b[0m\n",
            "\u001b[32mINFO    \u001b[0m \u001b[34mReplaced node: bert_encoder_layer_0_intermediate_dense, target: bert.encoder.layer.0.intermediate.dense with LoRALinear module.\u001b[0m\n",
            "\u001b[32mINFO    \u001b[0m \u001b[34mReplaced node: bert_encoder_layer_0_output_dense, target: bert.encoder.layer.0.output.dense with LoRALinear module.\u001b[0m\n",
            "\u001b[32mINFO    \u001b[0m \u001b[34mReplaced node: bert_encoder_layer_1_attention_self_query, target: bert.encoder.layer.1.attention.self.query with LoRALinear module.\u001b[0m\n",
            "\u001b[32mINFO    \u001b[0m \u001b[34mReplaced node: bert_encoder_layer_1_attention_self_key, target: bert.encoder.layer.1.attention.self.key with LoRALinear module.\u001b[0m\n",
            "\u001b[32mINFO    \u001b[0m \u001b[34mReplaced node: bert_encoder_layer_1_attention_self_value, target: bert.encoder.layer.1.attention.self.value with LoRALinear module.\u001b[0m\n",
            "\u001b[32mINFO    \u001b[0m \u001b[34mReplaced node: bert_encoder_layer_1_attention_output_dense, target: bert.encoder.layer.1.attention.output.dense with LoRALinear module.\u001b[0m\n",
            "\u001b[32mINFO    \u001b[0m \u001b[34mReplaced node: bert_encoder_layer_1_intermediate_dense, target: bert.encoder.layer.1.intermediate.dense with LoRALinear module.\u001b[0m\n",
            "\u001b[32mINFO    \u001b[0m \u001b[34mReplaced node: bert_encoder_layer_1_output_dense, target: bert.encoder.layer.1.output.dense with LoRALinear module.\u001b[0m\n",
            "\u001b[32mINFO    \u001b[0m \u001b[34mReplaced node: bert_pooler_dense, target: bert.pooler.dense with LoRALinear module.\u001b[0m\n",
            "\u001b[32mINFO    \u001b[0m \u001b[34mReplaced node: classifier, target: classifier with LoRALinear module.\u001b[0m\n"
          ]
        },
        {
          "output_type": "stream",
          "name": "stdout",
          "text": [
            "Epoch 6 Accuracy: 0.8545\n",
            "\n",
            "Training Epoch 7...\n"
          ]
        },
        {
          "output_type": "stream",
          "name": "stderr",
          "text": [
            "/content/mase/src/chop/tools/huggingface.py:157: FutureWarning: `tokenizer` is deprecated and will be removed in version 5.0.0 for `Trainer.__init__`. Use `processing_class` instead.\n",
            "  trainer = Trainer(\n"
          ]
        },
        {
          "output_type": "display_data",
          "data": {
            "text/plain": [
              "<IPython.core.display.HTML object>"
            ],
            "text/html": [
              "\n",
              "    <div>\n",
              "      \n",
              "      <progress value='3125' max='3125' style='width:300px; height:20px; vertical-align: middle;'></progress>\n",
              "      [3125/3125 01:07, Epoch 1/1]\n",
              "    </div>\n",
              "    <table border=\"1\" class=\"dataframe\">\n",
              "  <thead>\n",
              " <tr style=\"text-align: left;\">\n",
              "      <th>Step</th>\n",
              "      <th>Training Loss</th>\n",
              "    </tr>\n",
              "  </thead>\n",
              "  <tbody>\n",
              "    <tr>\n",
              "      <td>500</td>\n",
              "      <td>0.239000</td>\n",
              "    </tr>\n",
              "    <tr>\n",
              "      <td>1000</td>\n",
              "      <td>0.261200</td>\n",
              "    </tr>\n",
              "    <tr>\n",
              "      <td>1500</td>\n",
              "      <td>0.312400</td>\n",
              "    </tr>\n",
              "    <tr>\n",
              "      <td>2000</td>\n",
              "      <td>0.322100</td>\n",
              "    </tr>\n",
              "    <tr>\n",
              "      <td>2500</td>\n",
              "      <td>0.385800</td>\n",
              "    </tr>\n",
              "    <tr>\n",
              "      <td>3000</td>\n",
              "      <td>0.415300</td>\n",
              "    </tr>\n",
              "  </tbody>\n",
              "</table><p>"
            ]
          },
          "metadata": {}
        },
        {
          "output_type": "display_data",
          "data": {
            "text/plain": [
              "<IPython.core.display.HTML object>"
            ],
            "text/html": [
              "\n",
              "    <div>\n",
              "      \n",
              "      <progress value='3125' max='3125' style='width:300px; height:20px; vertical-align: middle;'></progress>\n",
              "      [3125/3125 00:26]\n",
              "    </div>\n",
              "    "
            ]
          },
          "metadata": {}
        },
        {
          "output_type": "stream",
          "name": "stderr",
          "text": [
            "\u001b[32mINFO    \u001b[0m \u001b[34mFusing LoRALinear weights for bert.encoder.layer.0.attention.self.query.\u001b[0m\n",
            "\u001b[32mINFO    \u001b[0m \u001b[34mFusing LoRALinear weights for bert.encoder.layer.0.attention.self.key.\u001b[0m\n",
            "\u001b[32mINFO    \u001b[0m \u001b[34mFusing LoRALinear weights for bert.encoder.layer.0.attention.self.value.\u001b[0m\n",
            "\u001b[32mINFO    \u001b[0m \u001b[34mFusing LoRALinear weights for bert.encoder.layer.0.attention.output.dense.\u001b[0m\n",
            "\u001b[32mINFO    \u001b[0m \u001b[34mFusing LoRALinear weights for bert.encoder.layer.0.intermediate.dense.\u001b[0m\n",
            "\u001b[32mINFO    \u001b[0m \u001b[34mFusing LoRALinear weights for bert.encoder.layer.0.output.dense.\u001b[0m\n",
            "\u001b[32mINFO    \u001b[0m \u001b[34mFusing LoRALinear weights for bert.encoder.layer.1.attention.self.query.\u001b[0m\n",
            "\u001b[32mINFO    \u001b[0m \u001b[34mFusing LoRALinear weights for bert.encoder.layer.1.attention.self.key.\u001b[0m\n",
            "\u001b[32mINFO    \u001b[0m \u001b[34mFusing LoRALinear weights for bert.encoder.layer.1.attention.self.value.\u001b[0m\n",
            "\u001b[32mINFO    \u001b[0m \u001b[34mFusing LoRALinear weights for bert.encoder.layer.1.attention.output.dense.\u001b[0m\n",
            "\u001b[32mINFO    \u001b[0m \u001b[34mFusing LoRALinear weights for bert.encoder.layer.1.intermediate.dense.\u001b[0m\n",
            "\u001b[32mINFO    \u001b[0m \u001b[34mFusing LoRALinear weights for bert.encoder.layer.1.output.dense.\u001b[0m\n",
            "\u001b[32mINFO    \u001b[0m \u001b[34mFusing LoRALinear weights for bert.pooler.dense.\u001b[0m\n",
            "\u001b[32mINFO    \u001b[0m \u001b[34mFusing LoRALinear weights for classifier.\u001b[0m\n",
            "\u001b[32mINFO    \u001b[0m \u001b[34mReplaced node: bert_encoder_layer_0_attention_self_query, target: bert.encoder.layer.0.attention.self.query with LoRALinear module.\u001b[0m\n",
            "\u001b[32mINFO    \u001b[0m \u001b[34mReplaced node: bert_encoder_layer_0_attention_self_key, target: bert.encoder.layer.0.attention.self.key with LoRALinear module.\u001b[0m\n",
            "\u001b[32mINFO    \u001b[0m \u001b[34mReplaced node: bert_encoder_layer_0_attention_self_value, target: bert.encoder.layer.0.attention.self.value with LoRALinear module.\u001b[0m\n",
            "\u001b[32mINFO    \u001b[0m \u001b[34mReplaced node: bert_encoder_layer_0_attention_output_dense, target: bert.encoder.layer.0.attention.output.dense with LoRALinear module.\u001b[0m\n",
            "\u001b[32mINFO    \u001b[0m \u001b[34mReplaced node: bert_encoder_layer_0_intermediate_dense, target: bert.encoder.layer.0.intermediate.dense with LoRALinear module.\u001b[0m\n",
            "\u001b[32mINFO    \u001b[0m \u001b[34mReplaced node: bert_encoder_layer_0_output_dense, target: bert.encoder.layer.0.output.dense with LoRALinear module.\u001b[0m\n",
            "\u001b[32mINFO    \u001b[0m \u001b[34mReplaced node: bert_encoder_layer_1_attention_self_query, target: bert.encoder.layer.1.attention.self.query with LoRALinear module.\u001b[0m\n",
            "\u001b[32mINFO    \u001b[0m \u001b[34mReplaced node: bert_encoder_layer_1_attention_self_key, target: bert.encoder.layer.1.attention.self.key with LoRALinear module.\u001b[0m\n",
            "\u001b[32mINFO    \u001b[0m \u001b[34mReplaced node: bert_encoder_layer_1_attention_self_value, target: bert.encoder.layer.1.attention.self.value with LoRALinear module.\u001b[0m\n",
            "\u001b[32mINFO    \u001b[0m \u001b[34mReplaced node: bert_encoder_layer_1_attention_output_dense, target: bert.encoder.layer.1.attention.output.dense with LoRALinear module.\u001b[0m\n",
            "\u001b[32mINFO    \u001b[0m \u001b[34mReplaced node: bert_encoder_layer_1_intermediate_dense, target: bert.encoder.layer.1.intermediate.dense with LoRALinear module.\u001b[0m\n",
            "\u001b[32mINFO    \u001b[0m \u001b[34mReplaced node: bert_encoder_layer_1_output_dense, target: bert.encoder.layer.1.output.dense with LoRALinear module.\u001b[0m\n",
            "\u001b[32mINFO    \u001b[0m \u001b[34mReplaced node: bert_pooler_dense, target: bert.pooler.dense with LoRALinear module.\u001b[0m\n",
            "\u001b[32mINFO    \u001b[0m \u001b[34mReplaced node: classifier, target: classifier with LoRALinear module.\u001b[0m\n"
          ]
        },
        {
          "output_type": "stream",
          "name": "stdout",
          "text": [
            "Epoch 7 Accuracy: 0.8547\n",
            "\n",
            "Training Epoch 8...\n"
          ]
        },
        {
          "output_type": "stream",
          "name": "stderr",
          "text": [
            "/content/mase/src/chop/tools/huggingface.py:157: FutureWarning: `tokenizer` is deprecated and will be removed in version 5.0.0 for `Trainer.__init__`. Use `processing_class` instead.\n",
            "  trainer = Trainer(\n"
          ]
        },
        {
          "output_type": "display_data",
          "data": {
            "text/plain": [
              "<IPython.core.display.HTML object>"
            ],
            "text/html": [
              "\n",
              "    <div>\n",
              "      \n",
              "      <progress value='3125' max='3125' style='width:300px; height:20px; vertical-align: middle;'></progress>\n",
              "      [3125/3125 01:08, Epoch 1/1]\n",
              "    </div>\n",
              "    <table border=\"1\" class=\"dataframe\">\n",
              "  <thead>\n",
              " <tr style=\"text-align: left;\">\n",
              "      <th>Step</th>\n",
              "      <th>Training Loss</th>\n",
              "    </tr>\n",
              "  </thead>\n",
              "  <tbody>\n",
              "    <tr>\n",
              "      <td>500</td>\n",
              "      <td>0.211300</td>\n",
              "    </tr>\n",
              "    <tr>\n",
              "      <td>1000</td>\n",
              "      <td>0.232700</td>\n",
              "    </tr>\n",
              "    <tr>\n",
              "      <td>1500</td>\n",
              "      <td>0.299600</td>\n",
              "    </tr>\n",
              "    <tr>\n",
              "      <td>2000</td>\n",
              "      <td>0.317200</td>\n",
              "    </tr>\n",
              "    <tr>\n",
              "      <td>2500</td>\n",
              "      <td>0.391400</td>\n",
              "    </tr>\n",
              "    <tr>\n",
              "      <td>3000</td>\n",
              "      <td>0.430600</td>\n",
              "    </tr>\n",
              "  </tbody>\n",
              "</table><p>"
            ]
          },
          "metadata": {}
        },
        {
          "output_type": "display_data",
          "data": {
            "text/plain": [
              "<IPython.core.display.HTML object>"
            ],
            "text/html": [
              "\n",
              "    <div>\n",
              "      \n",
              "      <progress value='3125' max='3125' style='width:300px; height:20px; vertical-align: middle;'></progress>\n",
              "      [3125/3125 00:26]\n",
              "    </div>\n",
              "    "
            ]
          },
          "metadata": {}
        },
        {
          "output_type": "stream",
          "name": "stderr",
          "text": [
            "\u001b[32mINFO    \u001b[0m \u001b[34mFusing LoRALinear weights for bert.encoder.layer.0.attention.self.query.\u001b[0m\n",
            "\u001b[32mINFO    \u001b[0m \u001b[34mFusing LoRALinear weights for bert.encoder.layer.0.attention.self.key.\u001b[0m\n",
            "\u001b[32mINFO    \u001b[0m \u001b[34mFusing LoRALinear weights for bert.encoder.layer.0.attention.self.value.\u001b[0m\n",
            "\u001b[32mINFO    \u001b[0m \u001b[34mFusing LoRALinear weights for bert.encoder.layer.0.attention.output.dense.\u001b[0m\n",
            "\u001b[32mINFO    \u001b[0m \u001b[34mFusing LoRALinear weights for bert.encoder.layer.0.intermediate.dense.\u001b[0m\n",
            "\u001b[32mINFO    \u001b[0m \u001b[34mFusing LoRALinear weights for bert.encoder.layer.0.output.dense.\u001b[0m\n",
            "\u001b[32mINFO    \u001b[0m \u001b[34mFusing LoRALinear weights for bert.encoder.layer.1.attention.self.query.\u001b[0m\n",
            "\u001b[32mINFO    \u001b[0m \u001b[34mFusing LoRALinear weights for bert.encoder.layer.1.attention.self.key.\u001b[0m\n",
            "\u001b[32mINFO    \u001b[0m \u001b[34mFusing LoRALinear weights for bert.encoder.layer.1.attention.self.value.\u001b[0m\n",
            "\u001b[32mINFO    \u001b[0m \u001b[34mFusing LoRALinear weights for bert.encoder.layer.1.attention.output.dense.\u001b[0m\n",
            "\u001b[32mINFO    \u001b[0m \u001b[34mFusing LoRALinear weights for bert.encoder.layer.1.intermediate.dense.\u001b[0m\n",
            "\u001b[32mINFO    \u001b[0m \u001b[34mFusing LoRALinear weights for bert.encoder.layer.1.output.dense.\u001b[0m\n",
            "\u001b[32mINFO    \u001b[0m \u001b[34mFusing LoRALinear weights for bert.pooler.dense.\u001b[0m\n",
            "\u001b[32mINFO    \u001b[0m \u001b[34mFusing LoRALinear weights for classifier.\u001b[0m\n",
            "\u001b[32mINFO    \u001b[0m \u001b[34mReplaced node: bert_encoder_layer_0_attention_self_query, target: bert.encoder.layer.0.attention.self.query with LoRALinear module.\u001b[0m\n",
            "\u001b[32mINFO    \u001b[0m \u001b[34mReplaced node: bert_encoder_layer_0_attention_self_key, target: bert.encoder.layer.0.attention.self.key with LoRALinear module.\u001b[0m\n",
            "\u001b[32mINFO    \u001b[0m \u001b[34mReplaced node: bert_encoder_layer_0_attention_self_value, target: bert.encoder.layer.0.attention.self.value with LoRALinear module.\u001b[0m\n",
            "\u001b[32mINFO    \u001b[0m \u001b[34mReplaced node: bert_encoder_layer_0_attention_output_dense, target: bert.encoder.layer.0.attention.output.dense with LoRALinear module.\u001b[0m\n",
            "\u001b[32mINFO    \u001b[0m \u001b[34mReplaced node: bert_encoder_layer_0_intermediate_dense, target: bert.encoder.layer.0.intermediate.dense with LoRALinear module.\u001b[0m\n",
            "\u001b[32mINFO    \u001b[0m \u001b[34mReplaced node: bert_encoder_layer_0_output_dense, target: bert.encoder.layer.0.output.dense with LoRALinear module.\u001b[0m\n",
            "\u001b[32mINFO    \u001b[0m \u001b[34mReplaced node: bert_encoder_layer_1_attention_self_query, target: bert.encoder.layer.1.attention.self.query with LoRALinear module.\u001b[0m\n",
            "\u001b[32mINFO    \u001b[0m \u001b[34mReplaced node: bert_encoder_layer_1_attention_self_key, target: bert.encoder.layer.1.attention.self.key with LoRALinear module.\u001b[0m\n",
            "\u001b[32mINFO    \u001b[0m \u001b[34mReplaced node: bert_encoder_layer_1_attention_self_value, target: bert.encoder.layer.1.attention.self.value with LoRALinear module.\u001b[0m\n",
            "\u001b[32mINFO    \u001b[0m \u001b[34mReplaced node: bert_encoder_layer_1_attention_output_dense, target: bert.encoder.layer.1.attention.output.dense with LoRALinear module.\u001b[0m\n",
            "\u001b[32mINFO    \u001b[0m \u001b[34mReplaced node: bert_encoder_layer_1_intermediate_dense, target: bert.encoder.layer.1.intermediate.dense with LoRALinear module.\u001b[0m\n",
            "\u001b[32mINFO    \u001b[0m \u001b[34mReplaced node: bert_encoder_layer_1_output_dense, target: bert.encoder.layer.1.output.dense with LoRALinear module.\u001b[0m\n",
            "\u001b[32mINFO    \u001b[0m \u001b[34mReplaced node: bert_pooler_dense, target: bert.pooler.dense with LoRALinear module.\u001b[0m\n",
            "\u001b[32mINFO    \u001b[0m \u001b[34mReplaced node: classifier, target: classifier with LoRALinear module.\u001b[0m\n"
          ]
        },
        {
          "output_type": "stream",
          "name": "stdout",
          "text": [
            "Epoch 8 Accuracy: 0.8542\n",
            "\n",
            "Training Epoch 9...\n"
          ]
        },
        {
          "output_type": "stream",
          "name": "stderr",
          "text": [
            "/content/mase/src/chop/tools/huggingface.py:157: FutureWarning: `tokenizer` is deprecated and will be removed in version 5.0.0 for `Trainer.__init__`. Use `processing_class` instead.\n",
            "  trainer = Trainer(\n"
          ]
        },
        {
          "output_type": "display_data",
          "data": {
            "text/plain": [
              "<IPython.core.display.HTML object>"
            ],
            "text/html": [
              "\n",
              "    <div>\n",
              "      \n",
              "      <progress value='3125' max='3125' style='width:300px; height:20px; vertical-align: middle;'></progress>\n",
              "      [3125/3125 01:10, Epoch 1/1]\n",
              "    </div>\n",
              "    <table border=\"1\" class=\"dataframe\">\n",
              "  <thead>\n",
              " <tr style=\"text-align: left;\">\n",
              "      <th>Step</th>\n",
              "      <th>Training Loss</th>\n",
              "    </tr>\n",
              "  </thead>\n",
              "  <tbody>\n",
              "    <tr>\n",
              "      <td>500</td>\n",
              "      <td>0.185800</td>\n",
              "    </tr>\n",
              "    <tr>\n",
              "      <td>1000</td>\n",
              "      <td>0.208800</td>\n",
              "    </tr>\n",
              "    <tr>\n",
              "      <td>1500</td>\n",
              "      <td>0.276800</td>\n",
              "    </tr>\n",
              "    <tr>\n",
              "      <td>2000</td>\n",
              "      <td>0.305400</td>\n",
              "    </tr>\n",
              "    <tr>\n",
              "      <td>2500</td>\n",
              "      <td>0.391400</td>\n",
              "    </tr>\n",
              "    <tr>\n",
              "      <td>3000</td>\n",
              "      <td>0.444800</td>\n",
              "    </tr>\n",
              "  </tbody>\n",
              "</table><p>"
            ]
          },
          "metadata": {}
        },
        {
          "output_type": "display_data",
          "data": {
            "text/plain": [
              "<IPython.core.display.HTML object>"
            ],
            "text/html": [
              "\n",
              "    <div>\n",
              "      \n",
              "      <progress value='3125' max='3125' style='width:300px; height:20px; vertical-align: middle;'></progress>\n",
              "      [3125/3125 00:27]\n",
              "    </div>\n",
              "    "
            ]
          },
          "metadata": {}
        },
        {
          "output_type": "stream",
          "name": "stderr",
          "text": [
            "\u001b[32mINFO    \u001b[0m \u001b[34mFusing LoRALinear weights for bert.encoder.layer.0.attention.self.query.\u001b[0m\n",
            "\u001b[32mINFO    \u001b[0m \u001b[34mFusing LoRALinear weights for bert.encoder.layer.0.attention.self.key.\u001b[0m\n",
            "\u001b[32mINFO    \u001b[0m \u001b[34mFusing LoRALinear weights for bert.encoder.layer.0.attention.self.value.\u001b[0m\n",
            "\u001b[32mINFO    \u001b[0m \u001b[34mFusing LoRALinear weights for bert.encoder.layer.0.attention.output.dense.\u001b[0m\n",
            "\u001b[32mINFO    \u001b[0m \u001b[34mFusing LoRALinear weights for bert.encoder.layer.0.intermediate.dense.\u001b[0m\n",
            "\u001b[32mINFO    \u001b[0m \u001b[34mFusing LoRALinear weights for bert.encoder.layer.0.output.dense.\u001b[0m\n",
            "\u001b[32mINFO    \u001b[0m \u001b[34mFusing LoRALinear weights for bert.encoder.layer.1.attention.self.query.\u001b[0m\n",
            "\u001b[32mINFO    \u001b[0m \u001b[34mFusing LoRALinear weights for bert.encoder.layer.1.attention.self.key.\u001b[0m\n",
            "\u001b[32mINFO    \u001b[0m \u001b[34mFusing LoRALinear weights for bert.encoder.layer.1.attention.self.value.\u001b[0m\n",
            "\u001b[32mINFO    \u001b[0m \u001b[34mFusing LoRALinear weights for bert.encoder.layer.1.attention.output.dense.\u001b[0m\n",
            "\u001b[32mINFO    \u001b[0m \u001b[34mFusing LoRALinear weights for bert.encoder.layer.1.intermediate.dense.\u001b[0m\n",
            "\u001b[32mINFO    \u001b[0m \u001b[34mFusing LoRALinear weights for bert.encoder.layer.1.output.dense.\u001b[0m\n",
            "\u001b[32mINFO    \u001b[0m \u001b[34mFusing LoRALinear weights for bert.pooler.dense.\u001b[0m\n",
            "\u001b[32mINFO    \u001b[0m \u001b[34mFusing LoRALinear weights for classifier.\u001b[0m\n",
            "\u001b[32mINFO    \u001b[0m \u001b[34mReplaced node: bert_encoder_layer_0_attention_self_query, target: bert.encoder.layer.0.attention.self.query with LoRALinear module.\u001b[0m\n",
            "\u001b[32mINFO    \u001b[0m \u001b[34mReplaced node: bert_encoder_layer_0_attention_self_key, target: bert.encoder.layer.0.attention.self.key with LoRALinear module.\u001b[0m\n",
            "\u001b[32mINFO    \u001b[0m \u001b[34mReplaced node: bert_encoder_layer_0_attention_self_value, target: bert.encoder.layer.0.attention.self.value with LoRALinear module.\u001b[0m\n",
            "\u001b[32mINFO    \u001b[0m \u001b[34mReplaced node: bert_encoder_layer_0_attention_output_dense, target: bert.encoder.layer.0.attention.output.dense with LoRALinear module.\u001b[0m\n",
            "\u001b[32mINFO    \u001b[0m \u001b[34mReplaced node: bert_encoder_layer_0_intermediate_dense, target: bert.encoder.layer.0.intermediate.dense with LoRALinear module.\u001b[0m\n",
            "\u001b[32mINFO    \u001b[0m \u001b[34mReplaced node: bert_encoder_layer_0_output_dense, target: bert.encoder.layer.0.output.dense with LoRALinear module.\u001b[0m\n",
            "\u001b[32mINFO    \u001b[0m \u001b[34mReplaced node: bert_encoder_layer_1_attention_self_query, target: bert.encoder.layer.1.attention.self.query with LoRALinear module.\u001b[0m\n",
            "\u001b[32mINFO    \u001b[0m \u001b[34mReplaced node: bert_encoder_layer_1_attention_self_key, target: bert.encoder.layer.1.attention.self.key with LoRALinear module.\u001b[0m\n",
            "\u001b[32mINFO    \u001b[0m \u001b[34mReplaced node: bert_encoder_layer_1_attention_self_value, target: bert.encoder.layer.1.attention.self.value with LoRALinear module.\u001b[0m\n",
            "\u001b[32mINFO    \u001b[0m \u001b[34mReplaced node: bert_encoder_layer_1_attention_output_dense, target: bert.encoder.layer.1.attention.output.dense with LoRALinear module.\u001b[0m\n",
            "\u001b[32mINFO    \u001b[0m \u001b[34mReplaced node: bert_encoder_layer_1_intermediate_dense, target: bert.encoder.layer.1.intermediate.dense with LoRALinear module.\u001b[0m\n",
            "\u001b[32mINFO    \u001b[0m \u001b[34mReplaced node: bert_encoder_layer_1_output_dense, target: bert.encoder.layer.1.output.dense with LoRALinear module.\u001b[0m\n",
            "\u001b[32mINFO    \u001b[0m \u001b[34mReplaced node: bert_pooler_dense, target: bert.pooler.dense with LoRALinear module.\u001b[0m\n",
            "\u001b[32mINFO    \u001b[0m \u001b[34mReplaced node: classifier, target: classifier with LoRALinear module.\u001b[0m\n"
          ]
        },
        {
          "output_type": "stream",
          "name": "stdout",
          "text": [
            "Epoch 9 Accuracy: 0.8527\n",
            "\n",
            "Training Epoch 10...\n"
          ]
        },
        {
          "output_type": "stream",
          "name": "stderr",
          "text": [
            "/content/mase/src/chop/tools/huggingface.py:157: FutureWarning: `tokenizer` is deprecated and will be removed in version 5.0.0 for `Trainer.__init__`. Use `processing_class` instead.\n",
            "  trainer = Trainer(\n"
          ]
        },
        {
          "output_type": "display_data",
          "data": {
            "text/plain": [
              "<IPython.core.display.HTML object>"
            ],
            "text/html": [
              "\n",
              "    <div>\n",
              "      \n",
              "      <progress value='3125' max='3125' style='width:300px; height:20px; vertical-align: middle;'></progress>\n",
              "      [3125/3125 01:10, Epoch 1/1]\n",
              "    </div>\n",
              "    <table border=\"1\" class=\"dataframe\">\n",
              "  <thead>\n",
              " <tr style=\"text-align: left;\">\n",
              "      <th>Step</th>\n",
              "      <th>Training Loss</th>\n",
              "    </tr>\n",
              "  </thead>\n",
              "  <tbody>\n",
              "    <tr>\n",
              "      <td>500</td>\n",
              "      <td>0.159600</td>\n",
              "    </tr>\n",
              "    <tr>\n",
              "      <td>1000</td>\n",
              "      <td>0.191100</td>\n",
              "    </tr>\n",
              "    <tr>\n",
              "      <td>1500</td>\n",
              "      <td>0.251700</td>\n",
              "    </tr>\n",
              "    <tr>\n",
              "      <td>2000</td>\n",
              "      <td>0.293800</td>\n",
              "    </tr>\n",
              "    <tr>\n",
              "      <td>2500</td>\n",
              "      <td>0.399400</td>\n",
              "    </tr>\n",
              "    <tr>\n",
              "      <td>3000</td>\n",
              "      <td>0.462700</td>\n",
              "    </tr>\n",
              "  </tbody>\n",
              "</table><p>"
            ]
          },
          "metadata": {}
        },
        {
          "output_type": "display_data",
          "data": {
            "text/plain": [
              "<IPython.core.display.HTML object>"
            ],
            "text/html": [
              "\n",
              "    <div>\n",
              "      \n",
              "      <progress value='3125' max='3125' style='width:300px; height:20px; vertical-align: middle;'></progress>\n",
              "      [3125/3125 00:27]\n",
              "    </div>\n",
              "    "
            ]
          },
          "metadata": {}
        },
        {
          "output_type": "stream",
          "name": "stderr",
          "text": [
            "\u001b[32mINFO    \u001b[0m \u001b[34mFusing LoRALinear weights for bert.encoder.layer.0.attention.self.query.\u001b[0m\n",
            "\u001b[32mINFO    \u001b[0m \u001b[34mFusing LoRALinear weights for bert.encoder.layer.0.attention.self.key.\u001b[0m\n",
            "\u001b[32mINFO    \u001b[0m \u001b[34mFusing LoRALinear weights for bert.encoder.layer.0.attention.self.value.\u001b[0m\n",
            "\u001b[32mINFO    \u001b[0m \u001b[34mFusing LoRALinear weights for bert.encoder.layer.0.attention.output.dense.\u001b[0m\n",
            "\u001b[32mINFO    \u001b[0m \u001b[34mFusing LoRALinear weights for bert.encoder.layer.0.intermediate.dense.\u001b[0m\n",
            "\u001b[32mINFO    \u001b[0m \u001b[34mFusing LoRALinear weights for bert.encoder.layer.0.output.dense.\u001b[0m\n",
            "\u001b[32mINFO    \u001b[0m \u001b[34mFusing LoRALinear weights for bert.encoder.layer.1.attention.self.query.\u001b[0m\n",
            "\u001b[32mINFO    \u001b[0m \u001b[34mFusing LoRALinear weights for bert.encoder.layer.1.attention.self.key.\u001b[0m\n",
            "\u001b[32mINFO    \u001b[0m \u001b[34mFusing LoRALinear weights for bert.encoder.layer.1.attention.self.value.\u001b[0m\n",
            "\u001b[32mINFO    \u001b[0m \u001b[34mFusing LoRALinear weights for bert.encoder.layer.1.attention.output.dense.\u001b[0m\n",
            "\u001b[32mINFO    \u001b[0m \u001b[34mFusing LoRALinear weights for bert.encoder.layer.1.intermediate.dense.\u001b[0m\n",
            "\u001b[32mINFO    \u001b[0m \u001b[34mFusing LoRALinear weights for bert.encoder.layer.1.output.dense.\u001b[0m\n",
            "\u001b[32mINFO    \u001b[0m \u001b[34mFusing LoRALinear weights for bert.pooler.dense.\u001b[0m\n",
            "\u001b[32mINFO    \u001b[0m \u001b[34mFusing LoRALinear weights for classifier.\u001b[0m\n"
          ]
        },
        {
          "output_type": "stream",
          "name": "stdout",
          "text": [
            "Epoch 10 Accuracy: 0.8506\n"
          ]
        },
        {
          "output_type": "display_data",
          "data": {
            "text/plain": [
              "<Figure size 800x500 with 1 Axes>"
            ],
            "image/png": "[encoded data removed]"
          },
          "metadata": {}
        }
      ]
    }
  ],
  "metadata": {
    "kernelspec": {
      "display_name": "Python 3",
      "name": "python3"
    },
    "language_info": {
      "codemirror_mode": {
        "name": "ipython",
        "version": 3
      },
      "file_extension": ".py",
      "mimetype": "text/x-python",
      "name": "python",
      "nbconvert_exporter": "python",
      "pygments_lexer": "ipython3",
      "version": "3.11.9"
    },
    "colab": {
      "provenance": [],
      "gpuType": "T4",
      "machine_shape": "hm"
    },
    "accelerator": "GPU",
    "widgets": {
      "application/vnd.jupyter.widget-state+json": {
        "f67d985ca9db44feabf4dc41e36905ff": {
          "model_module": "@jupyter-widgets/controls",
          "model_name": "HBoxModel",
          "model_module_version": "1.5.0",
          "state": {
            "_dom_classes": [],
            "_model_module": "@jupyter-widgets/controls",
            "_model_module_version": "1.5.0",
            "_model_name": "HBoxModel",
            "_view_count": null,
            "_view_module": "@jupyter-widgets/controls",
            "_view_module_version": "1.5.0",
            "_view_name": "HBoxView",
            "box_style": "",
            "children": [
              "IPY_MODEL_0e7e5707ec0045ddbad3f4c9968d303a",
              "IPY_MODEL_dfe79a3854874172aca6f9c289e32cdb",
              "IPY_MODEL_b5e860eb416c441e86f28e9921a43f9f"
            ],
            "layout": "IPY_MODEL_e78f44f1593b4c93af0a7d2e00122ebe"
          }
        },
        "0e7e5707ec0045ddbad3f4c9968d303a": {
          "model_module": "@jupyter-widgets/controls",
          "model_name": "HTMLModel",
          "model_module_version": "1.5.0",
          "state": {
            "_dom_classes": [],
            "_model_module": "@jupyter-widgets/controls",
            "_model_module_version": "1.5.0",
            "_model_name": "HTMLModel",
            "_view_count": null,
            "_view_module": "@jupyter-widgets/controls",
            "_view_module_version": "1.5.0",
            "_view_name": "HTMLView",
            "description": "",
            "description_tooltip": null,
            "layout": "IPY_MODEL_cb70d09ce4fe4b7594463d70c5c325a0",
            "placeholder": "​",
            "style": "IPY_MODEL_3227e26fbb7546468fd81cd2f2635357",
            "value": "Map: 100%"
          }
        },
        "dfe79a3854874172aca6f9c289e32cdb": {
          "model_module": "@jupyter-widgets/controls",
          "model_name": "FloatProgressModel",
          "model_module_version": "1.5.0",
          "state": {
            "_dom_classes": [],
            "_model_module": "@jupyter-widgets/controls",
            "_model_module_version": "1.5.0",
            "_model_name": "FloatProgressModel",
            "_view_count": null,
            "_view_module": "@jupyter-widgets/controls",
            "_view_module_version": "1.5.0",
            "_view_name": "ProgressView",
            "bar_style": "success",
            "description": "",
            "description_tooltip": null,
            "layout": "IPY_MODEL_b27aaa3af99a4f1384c647a81eac6820",
            "max": 25000,
            "min": 0,
            "orientation": "horizontal",
            "style": "IPY_MODEL_4cefef13899b4aaf8965c5a86a0c90d9",
            "value": 25000
          }
        },
        "b5e860eb416c441e86f28e9921a43f9f": {
          "model_module": "@jupyter-widgets/controls",
          "model_name": "HTMLModel",
          "model_module_version": "1.5.0",
          "state": {
            "_dom_classes": [],
            "_model_module": "@jupyter-widgets/controls",
            "_model_module_version": "1.5.0",
            "_model_name": "HTMLModel",
            "_view_count": null,
            "_view_module": "@jupyter-widgets/controls",
            "_view_module_version": "1.5.0",
            "_view_name": "HTMLView",
            "description": "",
            "description_tooltip": null,
            "layout": "IPY_MODEL_c1c4b269f0264507a91c6883cad3a520",
            "placeholder": "​",
            "style": "IPY_MODEL_e0a6049758e44936b555743f8e099915",
            "value": " 25000/25000 [00:09&lt;00:00, 2701.72 examples/s]"
          }
        },
        "e78f44f1593b4c93af0a7d2e00122ebe": {
          "model_module": "@jupyter-widgets/base",
          "model_name": "LayoutModel",
          "model_module_version": "1.2.0",
          "state": {
            "_model_module": "@jupyter-widgets/base",
            "_model_module_version": "1.2.0",
            "_model_name": "LayoutModel",
            "_view_count": null,
            "_view_module": "@jupyter-widgets/base",
            "_view_module_version": "1.2.0",
            "_view_name": "LayoutView",
            "align_content": null,
            "align_items": null,
            "align_self": null,
            "border": null,
            "bottom": null,
            "display": null,
            "flex": null,
            "flex_flow": null,
            "grid_area": null,
            "grid_auto_columns": null,
            "grid_auto_flow": null,
            "grid_auto_rows": null,
            "grid_column": null,
            "grid_gap": null,
            "grid_row": null,
            "grid_template_areas": null,
            "grid_template_columns": null,
            "grid_template_rows": null,
            "height": null,
            "justify_content": null,
            "justify_items": null,
            "left": null,
            "margin": null,
            "max_height": null,
            "max_width": null,
            "min_height": null,
            "min_width": null,
            "object_fit": null,
            "object_position": null,
            "order": null,
            "overflow": null,
            "overflow_x": null,
            "overflow_y": null,
            "padding": null,
            "right": null,
            "top": null,
            "visibility": null,
            "width": null
          }
        },
        "cb70d09ce4fe4b7594463d70c5c325a0": {
          "model_module": "@jupyter-widgets/base",
          "model_name": "LayoutModel",
          "model_module_version": "1.2.0",
          "state": {
            "_model_module": "@jupyter-widgets/base",
            "_model_module_version": "1.2.0",
            "_model_name": "LayoutModel",
            "_view_count": null,
            "_view_module": "@jupyter-widgets/base",
            "_view_module_version": "1.2.0",
            "_view_name": "LayoutView",
            "align_content": null,
            "align_items": null,
            "align_self": null,
            "border": null,
            "bottom": null,
            "display": null,
            "flex": null,
            "flex_flow": null,
            "grid_area": null,
            "grid_auto_columns": null,
            "grid_auto_flow": null,
            "grid_auto_rows": null,
            "grid_column": null,
            "grid_gap": null,
            "grid_row": null,
            "grid_template_areas": null,
            "grid_template_columns": null,
            "grid_template_rows": null,
            "height": null,
            "justify_content": null,
            "justify_items": null,
            "left": null,
            "margin": null,
            "max_height": null,
            "max_width": null,
            "min_height": null,
            "min_width": null,
            "object_fit": null,
            "object_position": null,
            "order": null,
            "overflow": null,
            "overflow_x": null,
            "overflow_y": null,
            "padding": null,
            "right": null,
            "top": null,
            "visibility": null,
            "width": null
          }
        },
        "3227e26fbb7546468fd81cd2f2635357": {
          "model_module": "@jupyter-widgets/controls",
          "model_name": "DescriptionStyleModel",
          "model_module_version": "1.5.0",
          "state": {
            "_model_module": "@jupyter-widgets/controls",
            "_model_module_version": "1.5.0",
            "_model_name": "DescriptionStyleModel",
            "_view_count": null,
            "_view_module": "@jupyter-widgets/base",
            "_view_module_version": "1.2.0",
            "_view_name": "StyleView",
            "description_width": ""
          }
        },
        "b27aaa3af99a4f1384c647a81eac6820": {
          "model_module": "@jupyter-widgets/base",
          "model_name": "LayoutModel",
          "model_module_version": "1.2.0",
          "state": {
            "_model_module": "@jupyter-widgets/base",
            "_model_module_version": "1.2.0",
            "_model_name": "LayoutModel",
            "_view_count": null,
            "_view_module": "@jupyter-widgets/base",
            "_view_module_version": "1.2.0",
            "_view_name": "LayoutView",
            "align_content": null,
            "align_items": null,
            "align_self": null,
            "border": null,
            "bottom": null,
            "display": null,
            "flex": null,
            "flex_flow": null,
            "grid_area": null,
            "grid_auto_columns": null,
            "grid_auto_flow": null,
            "grid_auto_rows": null,
            "grid_column": null,
            "grid_gap": null,
            "grid_row": null,
            "grid_template_areas": null,
            "grid_template_columns": null,
            "grid_template_rows": null,
            "height": null,
            "justify_content": null,
            "justify_items": null,
            "left": null,
            "margin": null,
            "max_height": null,
            "max_width": null,
            "min_height": null,
            "min_width": null,
            "object_fit": null,
            "object_position": null,
            "order": null,
            "overflow": null,
            "overflow_x": null,
            "overflow_y": null,
            "padding": null,
            "right": null,
            "top": null,
            "visibility": null,
            "width": null
          }
        },
        "4cefef13899b4aaf8965c5a86a0c90d9": {
          "model_module": "@jupyter-widgets/controls",
          "model_name": "ProgressStyleModel",
          "model_module_version": "1.5.0",
          "state": {
            "_model_module": "@jupyter-widgets/controls",
            "_model_module_version": "1.5.0",
            "_model_name": "ProgressStyleModel",
            "_view_count": null,
            "_view_module": "@jupyter-widgets/base",
            "_view_module_version": "1.2.0",
            "_view_name": "StyleView",
            "bar_color": null,
            "description_width": ""
          }
        },
        "c1c4b269f0264507a91c6883cad3a520": {
          "model_module": "@jupyter-widgets/base",
          "model_name": "LayoutModel",
          "model_module_version": "1.2.0",
          "state": {
            "_model_module": "@jupyter-widgets/base",
            "_model_module_version": "1.2.0",
            "_model_name": "LayoutModel",
            "_view_count": null,
            "_view_module": "@jupyter-widgets/base",
            "_view_module_version": "1.2.0",
            "_view_name": "LayoutView",
            "align_content": null,
            "align_items": null,
            "align_self": null,
            "border": null,
            "bottom": null,
            "display": null,
            "flex": null,
            "flex_flow": null,
            "grid_area": null,
            "grid_auto_columns": null,
            "grid_auto_flow": null,
            "grid_auto_rows": null,
            "grid_column": null,
            "grid_gap": null,
            "grid_row": null,
            "grid_template_areas": null,
            "grid_template_columns": null,
            "grid_template_rows": null,
            "height": null,
            "justify_content": null,
            "justify_items": null,
            "left": null,
            "margin": null,
            "max_height": null,
            "max_width": null,
            "min_height": null,
            "min_width": null,
            "object_fit": null,
            "object_position": null,
            "order": null,
            "overflow": null,
            "overflow_x": null,
            "overflow_y": null,
            "padding": null,
            "right": null,
            "top": null,
            "visibility": null,
            "width": null
          }
        },
        "e0a6049758e44936b555743f8e099915": {
          "model_module": "@jupyter-widgets/controls",
          "model_name": "DescriptionStyleModel",
          "model_module_version": "1.5.0",
          "state": {
            "_model_module": "@jupyter-widgets/controls",
            "_model_module_version": "1.5.0",
            "_model_name": "DescriptionStyleModel",
            "_view_count": null,
            "_view_module": "@jupyter-widgets/base",
            "_view_module_version": "1.2.0",
            "_view_name": "StyleView",
            "description_width": ""
          }
        },
        "ab3262bda32a4b149dd214907a41c567": {
          "model_module": "@jupyter-widgets/controls",
          "model_name": "HBoxModel",
          "model_module_version": "1.5.0",
          "state": {
            "_dom_classes": [],
            "_model_module": "@jupyter-widgets/controls",
            "_model_module_version": "1.5.0",
            "_model_name": "HBoxModel",
            "_view_count": null,
            "_view_module": "@jupyter-widgets/controls",
            "_view_module_version": "1.5.0",
            "_view_name": "HBoxView",
            "box_style": "",
            "children": [
              "IPY_MODEL_7948b23c28c445ab8ccd6317a3b9f550",
              "IPY_MODEL_a25101014f674ca689987aacaeffff97",
              "IPY_MODEL_187f79e2c99a49c5b6fa27ae4b694cd0"
            ],
            "layout": "IPY_MODEL_98fb298595b340dc9f34164b45be9b07"
          }
        },
        "7948b23c28c445ab8ccd6317a3b9f550": {
          "model_module": "@jupyter-widgets/controls",
          "model_name": "HTMLModel",
          "model_module_version": "1.5.0",
          "state": {
            "_dom_classes": [],
            "_model_module": "@jupyter-widgets/controls",
            "_model_module_version": "1.5.0",
            "_model_name": "HTMLModel",
            "_view_count": null,
            "_view_module": "@jupyter-widgets/controls",
            "_view_module_version": "1.5.0",
            "_view_name": "HTMLView",
            "description": "",
            "description_tooltip": null,
            "layout": "IPY_MODEL_e55ebdb8ec2e49d2a184873650768d3f",
            "placeholder": "​",
            "style": "IPY_MODEL_903082766835488c8910ab127fbdac6f",
            "value": "Map: 100%"
          }
        },
        "a25101014f674ca689987aacaeffff97": {
          "model_module": "@jupyter-widgets/controls",
          "model_name": "FloatProgressModel",
          "model_module_version": "1.5.0",
          "state": {
            "_dom_classes": [],
            "_model_module": "@jupyter-widgets/controls",
            "_model_module_version": "1.5.0",
            "_model_name": "FloatProgressModel",
            "_view_count": null,
            "_view_module": "@jupyter-widgets/controls",
            "_view_module_version": "1.5.0",
            "_view_name": "ProgressView",
            "bar_style": "success",
            "description": "",
            "description_tooltip": null,
            "layout": "IPY_MODEL_3a8b1393d5974c64a673d80f56f3cf74",
            "max": 50000,
            "min": 0,
            "orientation": "horizontal",
            "style": "IPY_MODEL_83c09acf1afd492dbf57662a952a66f4",
            "value": 50000
          }
        },
        "187f79e2c99a49c5b6fa27ae4b694cd0": {
          "model_module": "@jupyter-widgets/controls",
          "model_name": "HTMLModel",
          "model_module_version": "1.5.0",
          "state": {
            "_dom_classes": [],
            "_model_module": "@jupyter-widgets/controls",
            "_model_module_version": "1.5.0",
            "_model_name": "HTMLModel",
            "_view_count": null,
            "_view_module": "@jupyter-widgets/controls",
            "_view_module_version": "1.5.0",
            "_view_name": "HTMLView",
            "description": "",
            "description_tooltip": null,
            "layout": "IPY_MODEL_0898671fd9e64327a3d152024fb02c45",
            "placeholder": "​",
            "style": "IPY_MODEL_4f34de22af384d6693f9fb99a5fff795",
            "value": " 50000/50000 [00:19&lt;00:00, 2701.45 examples/s]"
          }
        },
        "98fb298595b340dc9f34164b45be9b07": {
          "model_module": "@jupyter-widgets/base",
          "model_name": "LayoutModel",
          "model_module_version": "1.2.0",
          "state": {
            "_model_module": "@jupyter-widgets/base",
            "_model_module_version": "1.2.0",
            "_model_name": "LayoutModel",
            "_view_count": null,
            "_view_module": "@jupyter-widgets/base",
            "_view_module_version": "1.2.0",
            "_view_name": "LayoutView",
            "align_content": null,
            "align_items": null,
            "align_self": null,
            "border": null,
            "bottom": null,
            "display": null,
            "flex": null,
            "flex_flow": null,
            "grid_area": null,
            "grid_auto_columns": null,
            "grid_auto_flow": null,
            "grid_auto_rows": null,
            "grid_column": null,
            "grid_gap": null,
            "grid_row": null,
            "grid_template_areas": null,
            "grid_template_columns": null,
            "grid_template_rows": null,
            "height": null,
            "justify_content": null,
            "justify_items": null,
            "left": null,
            "margin": null,
            "max_height": null,
            "max_width": null,
            "min_height": null,
            "min_width": null,
            "object_fit": null,
            "object_position": null,
            "order": null,
            "overflow": null,
            "overflow_x": null,
            "overflow_y": null,
            "padding": null,
            "right": null,
            "top": null,
            "visibility": null,
            "width": null
          }
        },
        "e55ebdb8ec2e49d2a184873650768d3f": {
          "model_module": "@jupyter-widgets/base",
          "model_name": "LayoutModel",
          "model_module_version": "1.2.0",
          "state": {
            "_model_module": "@jupyter-widgets/base",
            "_model_module_version": "1.2.0",
            "_model_name": "LayoutModel",
            "_view_count": null,
            "_view_module": "@jupyter-widgets/base",
            "_view_module_version": "1.2.0",
            "_view_name": "LayoutView",
            "align_content": null,
            "align_items": null,
            "align_self": null,
            "border": null,
            "bottom": null,
            "display": null,
            "flex": null,
            "flex_flow": null,
            "grid_area": null,
            "grid_auto_columns": null,
            "grid_auto_flow": null,
            "grid_auto_rows": null,
            "grid_column": null,
            "grid_gap": null,
            "grid_row": null,
            "grid_template_areas": null,
            "grid_template_columns": null,
            "grid_template_rows": null,
            "height": null,
            "justify_content": null,
            "justify_items": null,
            "left": null,
            "margin": null,
            "max_height": null,
            "max_width": null,
            "min_height": null,
            "min_width": null,
            "object_fit": null,
            "object_position": null,
            "order": null,
            "overflow": null,
            "overflow_x": null,
            "overflow_y": null,
            "padding": null,
            "right": null,
            "top": null,
            "visibility": null,
            "width": null
          }
        },
        "903082766835488c8910ab127fbdac6f": {
          "model_module": "@jupyter-widgets/controls",
          "model_name": "DescriptionStyleModel",
          "model_module_version": "1.5.0",
          "state": {
            "_model_module": "@jupyter-widgets/controls",
            "_model_module_version": "1.5.0",
            "_model_name": "DescriptionStyleModel",
            "_view_count": null,
            "_view_module": "@jupyter-widgets/base",
            "_view_module_version": "1.2.0",
            "_view_name": "StyleView",
            "description_width": ""
          }
        },
        "3a8b1393d5974c64a673d80f56f3cf74": {
          "model_module": "@jupyter-widgets/base",
          "model_name": "LayoutModel",
          "model_module_version": "1.2.0",
          "state": {
            "_model_module": "@jupyter-widgets/base",
            "_model_module_version": "1.2.0",
            "_model_name": "LayoutModel",
            "_view_count": null,
            "_view_module": "@jupyter-widgets/base",
            "_view_module_version": "1.2.0",
            "_view_name": "LayoutView",
            "align_content": null,
            "align_items": null,
            "align_self": null,
            "border": null,
            "bottom": null,
            "display": null,
            "flex": null,
            "flex_flow": null,
            "grid_area": null,
            "grid_auto_columns": null,
            "grid_auto_flow": null,
            "grid_auto_rows": null,
            "grid_column": null,
            "grid_gap": null,
            "grid_row": null,
            "grid_template_areas": null,
            "grid_template_columns": null,
            "grid_template_rows": null,
            "height": null,
            "justify_content": null,
            "justify_items": null,
            "left": null,
            "margin": null,
            "max_height": null,
            "max_width": null,
            "min_height": null,
            "min_width": null,
            "object_fit": null,
            "object_position": null,
            "order": null,
            "overflow": null,
            "overflow_x": null,
            "overflow_y": null,
            "padding": null,
            "right": null,
            "top": null,
            "visibility": null,
            "width": null
          }
        },
        "83c09acf1afd492dbf57662a952a66f4": {
          "model_module": "@jupyter-widgets/controls",
          "model_name": "ProgressStyleModel",
          "model_module_version": "1.5.0",
          "state": {
            "_model_module": "@jupyter-widgets/controls",
            "_model_module_version": "1.5.0",
            "_model_name": "ProgressStyleModel",
            "_view_count": null,
            "_view_module": "@jupyter-widgets/base",
            "_view_module_version": "1.2.0",
            "_view_name": "StyleView",
            "bar_color": null,
            "description_width": ""
          }
        },
        "0898671fd9e64327a3d152024fb02c45": {
          "model_module": "@jupyter-widgets/base",
          "model_name": "LayoutModel",
          "model_module_version": "1.2.0",
          "state": {
            "_model_module": "@jupyter-widgets/base",
            "_model_module_version": "1.2.0",
            "_model_name": "LayoutModel",
            "_view_count": null,
            "_view_module": "@jupyter-widgets/base",
            "_view_module_version": "1.2.0",
            "_view_name": "LayoutView",
            "align_content": null,
            "align_items": null,
            "align_self": null,
            "border": null,
            "bottom": null,
            "display": null,
            "flex": null,
            "flex_flow": null,
            "grid_area": null,
            "grid_auto_columns": null,
            "grid_auto_flow": null,
            "grid_auto_rows": null,
            "grid_column": null,
            "grid_gap": null,
            "grid_row": null,
            "grid_template_areas": null,
            "grid_template_columns": null,
            "grid_template_rows": null,
            "height": null,
            "justify_content": null,
            "justify_items": null,
            "left": null,
            "margin": null,
            "max_height": null,
            "max_width": null,
            "min_height": null,
            "min_width": null,
            "object_fit": null,
            "object_position": null,
            "order": null,
            "overflow": null,
            "overflow_x": null,
            "overflow_y": null,
            "padding": null,
            "right": null,
            "top": null,
            "visibility": null,
            "width": null
          }
        },
        "4f34de22af384d6693f9fb99a5fff795": {
          "model_module": "@jupyter-widgets/controls",
          "model_name": "DescriptionStyleModel",
          "model_module_version": "1.5.0",
          "state": {
            "_model_module": "@jupyter-widgets/controls",
            "_model_module_version": "1.5.0",
            "_model_name": "DescriptionStyleModel",
            "_view_count": null,
            "_view_module": "@jupyter-widgets/base",
            "_view_module_version": "1.2.0",
            "_view_name": "StyleView",
            "description_width": ""
          }
        }
      }
    }
  },
  "nbformat": 4,
  "nbformat_minor": 0
}
